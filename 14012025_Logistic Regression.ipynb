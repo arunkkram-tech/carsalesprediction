{
 "cells": [
  {
   "cell_type": "code",
   "execution_count": 1,
   "id": "9bf6aa13-6327-45e2-8eb9-b5111967e5e7",
   "metadata": {},
   "outputs": [],
   "source": [
    "import pandas as pd\n",
    "import numpy as np\n",
    "import matplotlib.pyplot as plt\n",
    "%matplotlib inline"
   ]
  },
  {
   "cell_type": "code",
   "execution_count": 2,
   "id": "b5dd6232-c3b6-485a-968f-40b021209198",
   "metadata": {},
   "outputs": [],
   "source": [
    "ecomdf=pd.read_excel('C:/Users/Acer/12JAN-18JAN2025-GENAI/DATASETS/E Commerce Dataset.xlsx',sheet_name='E Comm')"
   ]
  },
  {
   "cell_type": "code",
   "execution_count": 3,
   "id": "a29a45c9-1cee-4cc0-aaf0-cc98849456f7",
   "metadata": {},
   "outputs": [
    {
     "name": "stdout",
     "output_type": "stream",
     "text": [
      "<class 'pandas.core.frame.DataFrame'>\n",
      "RangeIndex: 5630 entries, 0 to 5629\n",
      "Data columns (total 20 columns):\n",
      " #   Column                       Non-Null Count  Dtype  \n",
      "---  ------                       --------------  -----  \n",
      " 0   CustomerID                   5630 non-null   int64  \n",
      " 1   Churn                        5630 non-null   int64  \n",
      " 2   Tenure                       5366 non-null   float64\n",
      " 3   PreferredLoginDevice         5630 non-null   object \n",
      " 4   CityTier                     5630 non-null   int64  \n",
      " 5   WarehouseToHome              5379 non-null   float64\n",
      " 6   PreferredPaymentMode         5630 non-null   object \n",
      " 7   Gender                       5630 non-null   object \n",
      " 8   HourSpendOnApp               5375 non-null   float64\n",
      " 9   NumberOfDeviceRegistered     5630 non-null   int64  \n",
      " 10  PreferedOrderCat             5630 non-null   object \n",
      " 11  SatisfactionScore            5630 non-null   int64  \n",
      " 12  MaritalStatus                5630 non-null   object \n",
      " 13  NumberOfAddress              5630 non-null   int64  \n",
      " 14  Complain                     5630 non-null   int64  \n",
      " 15  OrderAmountHikeFromlastYear  5365 non-null   float64\n",
      " 16  CouponUsed                   5374 non-null   float64\n",
      " 17  OrderCount                   5372 non-null   float64\n",
      " 18  DaySinceLastOrder            5323 non-null   float64\n",
      " 19  CashbackAmount               5630 non-null   float64\n",
      "dtypes: float64(8), int64(7), object(5)\n",
      "memory usage: 879.8+ KB\n"
     ]
    }
   ],
   "source": [
    "ecomdf.info()"
   ]
  },
  {
   "cell_type": "markdown",
   "id": "d5d9bcea-889b-4124-a873-d2afd8f0dc02",
   "metadata": {},
   "source": [
    " PREDICING NON NUMERIC VALUES\n",
    "\n",
    " RangeIndex : 5630 ( Observations )\n",
    " Columns : 20 variables\n",
    " Missing values in multiple variables ( columns )\n",
    " Data type - int,float,object\n",
    "\n",
    " variables that are categorical in nature like CityTier(1,2,3) , Complain ( 0/1 )\n",
    " Churn (0/1) - ( 0- No & 1 - Yes ) are int data type  \n",
    " Churn 1 - With the company , Churn 0 - Left the company\n",
    "\n",
    "\n",
    " Dependent Variable is Chrun(0/1)  - i.e. its a binary dependant variable\n",
    "\n",
    "\n",
    " BUILD A MACHINE LEARNING MODEL THAT PREDICTS PROBABILITY OF CHRUN OF EACH CUSTOMER\n",
    "\n",
    "\n",
    "\n"
   ]
  },
  {
   "cell_type": "code",
   "execution_count": 4,
   "id": "a0591f28-02d3-4fdb-9618-d157d44f120c",
   "metadata": {},
   "outputs": [],
   "source": [
    "# Split data into numeric and objects\n",
    "\n",
    "numcols=ecomdf.select_dtypes(include=np.number)\n",
    "objcols=ecomdf.select_dtypes(include=['object'])\n"
   ]
  },
  {
   "cell_type": "code",
   "execution_count": 5,
   "id": "0cdfdb2c-c163-4a28-9410-d7fd6b0cc86f",
   "metadata": {},
   "outputs": [],
   "source": [
    "# Move column City TIer , Complain & Churn from numebric to objcols\n",
    "objcols['CityTier']=numcols['CityTier']\n",
    "objcols['Complain']=numcols['Complain']\n",
    "objcols['Churn']=numcols['Churn']\n"
   ]
  },
  {
   "cell_type": "code",
   "execution_count": 6,
   "id": "aca59bcc-a391-4ddc-a7f0-c6776c5cdc68",
   "metadata": {},
   "outputs": [],
   "source": [
    "numcols=numcols.drop(['CityTier','Complain','Churn'],axis=1)"
   ]
  },
  {
   "cell_type": "code",
   "execution_count": 7,
   "id": "823da257-1c49-4bd8-8219-4e0b5b2b20bd",
   "metadata": {},
   "outputs": [
    {
     "data": {
      "text/html": [
       "<div>\n",
       "<style scoped>\n",
       "    .dataframe tbody tr th:only-of-type {\n",
       "        vertical-align: middle;\n",
       "    }\n",
       "\n",
       "    .dataframe tbody tr th {\n",
       "        vertical-align: top;\n",
       "    }\n",
       "\n",
       "    .dataframe thead th {\n",
       "        text-align: right;\n",
       "    }\n",
       "</style>\n",
       "<table border=\"1\" class=\"dataframe\">\n",
       "  <thead>\n",
       "    <tr style=\"text-align: right;\">\n",
       "      <th></th>\n",
       "      <th>CustomerID</th>\n",
       "      <th>Tenure</th>\n",
       "      <th>WarehouseToHome</th>\n",
       "      <th>HourSpendOnApp</th>\n",
       "      <th>NumberOfDeviceRegistered</th>\n",
       "      <th>SatisfactionScore</th>\n",
       "      <th>NumberOfAddress</th>\n",
       "      <th>OrderAmountHikeFromlastYear</th>\n",
       "      <th>CouponUsed</th>\n",
       "      <th>OrderCount</th>\n",
       "      <th>DaySinceLastOrder</th>\n",
       "      <th>CashbackAmount</th>\n",
       "    </tr>\n",
       "  </thead>\n",
       "  <tbody>\n",
       "    <tr>\n",
       "      <th>count</th>\n",
       "      <td>5630.000000</td>\n",
       "      <td>5366.000000</td>\n",
       "      <td>5379.000000</td>\n",
       "      <td>5375.000000</td>\n",
       "      <td>5630.000000</td>\n",
       "      <td>5630.000000</td>\n",
       "      <td>5630.000000</td>\n",
       "      <td>5365.000000</td>\n",
       "      <td>5374.000000</td>\n",
       "      <td>5372.000000</td>\n",
       "      <td>5323.000000</td>\n",
       "      <td>5630.000000</td>\n",
       "    </tr>\n",
       "    <tr>\n",
       "      <th>mean</th>\n",
       "      <td>52815.500000</td>\n",
       "      <td>10.189899</td>\n",
       "      <td>15.639896</td>\n",
       "      <td>2.931535</td>\n",
       "      <td>3.688988</td>\n",
       "      <td>3.066785</td>\n",
       "      <td>4.214032</td>\n",
       "      <td>15.707922</td>\n",
       "      <td>1.751023</td>\n",
       "      <td>3.008004</td>\n",
       "      <td>4.543491</td>\n",
       "      <td>177.223030</td>\n",
       "    </tr>\n",
       "    <tr>\n",
       "      <th>std</th>\n",
       "      <td>1625.385339</td>\n",
       "      <td>8.557241</td>\n",
       "      <td>8.531475</td>\n",
       "      <td>0.721926</td>\n",
       "      <td>1.023999</td>\n",
       "      <td>1.380194</td>\n",
       "      <td>2.583586</td>\n",
       "      <td>3.675485</td>\n",
       "      <td>1.894621</td>\n",
       "      <td>2.939680</td>\n",
       "      <td>3.654433</td>\n",
       "      <td>49.207036</td>\n",
       "    </tr>\n",
       "    <tr>\n",
       "      <th>min</th>\n",
       "      <td>50001.000000</td>\n",
       "      <td>0.000000</td>\n",
       "      <td>5.000000</td>\n",
       "      <td>0.000000</td>\n",
       "      <td>1.000000</td>\n",
       "      <td>1.000000</td>\n",
       "      <td>1.000000</td>\n",
       "      <td>11.000000</td>\n",
       "      <td>0.000000</td>\n",
       "      <td>1.000000</td>\n",
       "      <td>0.000000</td>\n",
       "      <td>0.000000</td>\n",
       "    </tr>\n",
       "    <tr>\n",
       "      <th>25%</th>\n",
       "      <td>51408.250000</td>\n",
       "      <td>2.000000</td>\n",
       "      <td>9.000000</td>\n",
       "      <td>2.000000</td>\n",
       "      <td>3.000000</td>\n",
       "      <td>2.000000</td>\n",
       "      <td>2.000000</td>\n",
       "      <td>13.000000</td>\n",
       "      <td>1.000000</td>\n",
       "      <td>1.000000</td>\n",
       "      <td>2.000000</td>\n",
       "      <td>145.770000</td>\n",
       "    </tr>\n",
       "    <tr>\n",
       "      <th>50%</th>\n",
       "      <td>52815.500000</td>\n",
       "      <td>9.000000</td>\n",
       "      <td>14.000000</td>\n",
       "      <td>3.000000</td>\n",
       "      <td>4.000000</td>\n",
       "      <td>3.000000</td>\n",
       "      <td>3.000000</td>\n",
       "      <td>15.000000</td>\n",
       "      <td>1.000000</td>\n",
       "      <td>2.000000</td>\n",
       "      <td>3.000000</td>\n",
       "      <td>163.280000</td>\n",
       "    </tr>\n",
       "    <tr>\n",
       "      <th>75%</th>\n",
       "      <td>54222.750000</td>\n",
       "      <td>16.000000</td>\n",
       "      <td>20.000000</td>\n",
       "      <td>3.000000</td>\n",
       "      <td>4.000000</td>\n",
       "      <td>4.000000</td>\n",
       "      <td>6.000000</td>\n",
       "      <td>18.000000</td>\n",
       "      <td>2.000000</td>\n",
       "      <td>3.000000</td>\n",
       "      <td>7.000000</td>\n",
       "      <td>196.392500</td>\n",
       "    </tr>\n",
       "    <tr>\n",
       "      <th>max</th>\n",
       "      <td>55630.000000</td>\n",
       "      <td>61.000000</td>\n",
       "      <td>127.000000</td>\n",
       "      <td>5.000000</td>\n",
       "      <td>6.000000</td>\n",
       "      <td>5.000000</td>\n",
       "      <td>22.000000</td>\n",
       "      <td>26.000000</td>\n",
       "      <td>16.000000</td>\n",
       "      <td>16.000000</td>\n",
       "      <td>46.000000</td>\n",
       "      <td>324.990000</td>\n",
       "    </tr>\n",
       "  </tbody>\n",
       "</table>\n",
       "</div>"
      ],
      "text/plain": [
       "         CustomerID       Tenure  WarehouseToHome  HourSpendOnApp  \\\n",
       "count   5630.000000  5366.000000      5379.000000     5375.000000   \n",
       "mean   52815.500000    10.189899        15.639896        2.931535   \n",
       "std     1625.385339     8.557241         8.531475        0.721926   \n",
       "min    50001.000000     0.000000         5.000000        0.000000   \n",
       "25%    51408.250000     2.000000         9.000000        2.000000   \n",
       "50%    52815.500000     9.000000        14.000000        3.000000   \n",
       "75%    54222.750000    16.000000        20.000000        3.000000   \n",
       "max    55630.000000    61.000000       127.000000        5.000000   \n",
       "\n",
       "       NumberOfDeviceRegistered  SatisfactionScore  NumberOfAddress  \\\n",
       "count               5630.000000        5630.000000      5630.000000   \n",
       "mean                   3.688988           3.066785         4.214032   \n",
       "std                    1.023999           1.380194         2.583586   \n",
       "min                    1.000000           1.000000         1.000000   \n",
       "25%                    3.000000           2.000000         2.000000   \n",
       "50%                    4.000000           3.000000         3.000000   \n",
       "75%                    4.000000           4.000000         6.000000   \n",
       "max                    6.000000           5.000000        22.000000   \n",
       "\n",
       "       OrderAmountHikeFromlastYear   CouponUsed   OrderCount  \\\n",
       "count                  5365.000000  5374.000000  5372.000000   \n",
       "mean                     15.707922     1.751023     3.008004   \n",
       "std                       3.675485     1.894621     2.939680   \n",
       "min                      11.000000     0.000000     1.000000   \n",
       "25%                      13.000000     1.000000     1.000000   \n",
       "50%                      15.000000     1.000000     2.000000   \n",
       "75%                      18.000000     2.000000     3.000000   \n",
       "max                      26.000000    16.000000    16.000000   \n",
       "\n",
       "       DaySinceLastOrder  CashbackAmount  \n",
       "count        5323.000000     5630.000000  \n",
       "mean            4.543491      177.223030  \n",
       "std             3.654433       49.207036  \n",
       "min             0.000000        0.000000  \n",
       "25%             2.000000      145.770000  \n",
       "50%             3.000000      163.280000  \n",
       "75%             7.000000      196.392500  \n",
       "max            46.000000      324.990000  "
      ]
     },
     "execution_count": 7,
     "metadata": {},
     "output_type": "execute_result"
    }
   ],
   "source": [
    "numcols.describe()"
   ]
  },
  {
   "cell_type": "code",
   "execution_count": 8,
   "id": "6e3a345f-bf03-483b-9fd1-d777353e2fe4",
   "metadata": {},
   "outputs": [
    {
     "data": {
      "text/plain": [
       "CustomerID                     0.000000\n",
       "Tenure                         0.736513\n",
       "WarehouseToHome                1.619154\n",
       "HourSpendOnApp                -0.027213\n",
       "NumberOfDeviceRegistered      -0.396969\n",
       "SatisfactionScore             -0.142626\n",
       "NumberOfAddress                1.088639\n",
       "OrderAmountHikeFromlastYear    0.790785\n",
       "CouponUsed                     2.545653\n",
       "OrderCount                     2.196414\n",
       "DaySinceLastOrder              1.191000\n",
       "CashbackAmount                 1.149846\n",
       "dtype: float64"
      ]
     },
     "execution_count": 8,
     "metadata": {},
     "output_type": "execute_result"
    }
   ],
   "source": [
    "numcols.skew()"
   ]
  },
  {
   "cell_type": "code",
   "execution_count": 9,
   "id": "0d98de8c-4e86-4ea0-93fc-d500a45d6088",
   "metadata": {},
   "outputs": [],
   "source": [
    "# skew is closer to 0 hence we are using mean\n",
    "# imputation of missing values using mean\n",
    " \n",
    "for col in numcols.columns:\n",
    "    numcols[col]=numcols[col].fillna(numcols[col].mean())"
   ]
  },
  {
   "cell_type": "code",
   "execution_count": 10,
   "id": "66078e47-0e68-4be6-ac30-03111ae8ca5e",
   "metadata": {},
   "outputs": [
    {
     "data": {
      "text/html": [
       "<div>\n",
       "<style scoped>\n",
       "    .dataframe tbody tr th:only-of-type {\n",
       "        vertical-align: middle;\n",
       "    }\n",
       "\n",
       "    .dataframe tbody tr th {\n",
       "        vertical-align: top;\n",
       "    }\n",
       "\n",
       "    .dataframe thead th {\n",
       "        text-align: right;\n",
       "    }\n",
       "</style>\n",
       "<table border=\"1\" class=\"dataframe\">\n",
       "  <thead>\n",
       "    <tr style=\"text-align: right;\">\n",
       "      <th></th>\n",
       "      <th>CustomerID</th>\n",
       "      <th>Tenure</th>\n",
       "      <th>WarehouseToHome</th>\n",
       "      <th>HourSpendOnApp</th>\n",
       "      <th>NumberOfDeviceRegistered</th>\n",
       "      <th>SatisfactionScore</th>\n",
       "      <th>NumberOfAddress</th>\n",
       "      <th>OrderAmountHikeFromlastYear</th>\n",
       "      <th>CouponUsed</th>\n",
       "      <th>OrderCount</th>\n",
       "      <th>DaySinceLastOrder</th>\n",
       "      <th>CashbackAmount</th>\n",
       "    </tr>\n",
       "  </thead>\n",
       "  <tbody>\n",
       "    <tr>\n",
       "      <th>0</th>\n",
       "      <td>50001</td>\n",
       "      <td>4.000000</td>\n",
       "      <td>6.0</td>\n",
       "      <td>3.000000</td>\n",
       "      <td>3</td>\n",
       "      <td>2</td>\n",
       "      <td>9</td>\n",
       "      <td>11.0</td>\n",
       "      <td>1.0</td>\n",
       "      <td>1.0</td>\n",
       "      <td>5.0</td>\n",
       "      <td>159.93</td>\n",
       "    </tr>\n",
       "    <tr>\n",
       "      <th>1</th>\n",
       "      <td>50002</td>\n",
       "      <td>10.189899</td>\n",
       "      <td>8.0</td>\n",
       "      <td>3.000000</td>\n",
       "      <td>4</td>\n",
       "      <td>3</td>\n",
       "      <td>7</td>\n",
       "      <td>15.0</td>\n",
       "      <td>0.0</td>\n",
       "      <td>1.0</td>\n",
       "      <td>0.0</td>\n",
       "      <td>120.90</td>\n",
       "    </tr>\n",
       "    <tr>\n",
       "      <th>2</th>\n",
       "      <td>50003</td>\n",
       "      <td>10.189899</td>\n",
       "      <td>30.0</td>\n",
       "      <td>2.000000</td>\n",
       "      <td>4</td>\n",
       "      <td>3</td>\n",
       "      <td>6</td>\n",
       "      <td>14.0</td>\n",
       "      <td>0.0</td>\n",
       "      <td>1.0</td>\n",
       "      <td>3.0</td>\n",
       "      <td>120.28</td>\n",
       "    </tr>\n",
       "    <tr>\n",
       "      <th>3</th>\n",
       "      <td>50004</td>\n",
       "      <td>0.000000</td>\n",
       "      <td>15.0</td>\n",
       "      <td>2.000000</td>\n",
       "      <td>4</td>\n",
       "      <td>5</td>\n",
       "      <td>8</td>\n",
       "      <td>23.0</td>\n",
       "      <td>0.0</td>\n",
       "      <td>1.0</td>\n",
       "      <td>3.0</td>\n",
       "      <td>134.07</td>\n",
       "    </tr>\n",
       "    <tr>\n",
       "      <th>4</th>\n",
       "      <td>50005</td>\n",
       "      <td>0.000000</td>\n",
       "      <td>12.0</td>\n",
       "      <td>2.931535</td>\n",
       "      <td>3</td>\n",
       "      <td>5</td>\n",
       "      <td>3</td>\n",
       "      <td>11.0</td>\n",
       "      <td>1.0</td>\n",
       "      <td>1.0</td>\n",
       "      <td>3.0</td>\n",
       "      <td>129.60</td>\n",
       "    </tr>\n",
       "  </tbody>\n",
       "</table>\n",
       "</div>"
      ],
      "text/plain": [
       "   CustomerID     Tenure  WarehouseToHome  HourSpendOnApp  \\\n",
       "0       50001   4.000000              6.0        3.000000   \n",
       "1       50002  10.189899              8.0        3.000000   \n",
       "2       50003  10.189899             30.0        2.000000   \n",
       "3       50004   0.000000             15.0        2.000000   \n",
       "4       50005   0.000000             12.0        2.931535   \n",
       "\n",
       "   NumberOfDeviceRegistered  SatisfactionScore  NumberOfAddress  \\\n",
       "0                         3                  2                9   \n",
       "1                         4                  3                7   \n",
       "2                         4                  3                6   \n",
       "3                         4                  5                8   \n",
       "4                         3                  5                3   \n",
       "\n",
       "   OrderAmountHikeFromlastYear  CouponUsed  OrderCount  DaySinceLastOrder  \\\n",
       "0                         11.0         1.0         1.0                5.0   \n",
       "1                         15.0         0.0         1.0                0.0   \n",
       "2                         14.0         0.0         1.0                3.0   \n",
       "3                         23.0         0.0         1.0                3.0   \n",
       "4                         11.0         1.0         1.0                3.0   \n",
       "\n",
       "   CashbackAmount  \n",
       "0          159.93  \n",
       "1          120.90  \n",
       "2          120.28  \n",
       "3          134.07  \n",
       "4          129.60  "
      ]
     },
     "execution_count": 10,
     "metadata": {},
     "output_type": "execute_result"
    }
   ],
   "source": [
    "numcols.head()"
   ]
  },
  {
   "cell_type": "code",
   "execution_count": 11,
   "id": "13198f60-ef08-465f-8b0d-1ffcaa7942fc",
   "metadata": {},
   "outputs": [
    {
     "data": {
      "text/plain": [
       "Index(['PreferredLoginDevice', 'PreferredPaymentMode', 'Gender',\n",
       "       'PreferedOrderCat', 'MaritalStatus', 'CityTier', 'Complain', 'Churn'],\n",
       "      dtype='object')"
      ]
     },
     "execution_count": 11,
     "metadata": {},
     "output_type": "execute_result"
    }
   ],
   "source": [
    "objcols.columns"
   ]
  },
  {
   "cell_type": "code",
   "execution_count": 12,
   "id": "15886905-6be5-4b98-9b5e-7c4237e15fae",
   "metadata": {},
   "outputs": [],
   "source": [
    "#dummy encode objcols ( HOT ENCODING - convert the given columns in to binaries )\n",
    "# i.e  exclude chrun\n",
    "\n",
    "objcols_dummy=pd.get_dummies(objcols,columns=['PreferredLoginDevice', 'PreferredPaymentMode', 'Gender', 'PreferedOrderCat', 'MaritalStatus', 'CityTier', 'Complain'])"
   ]
  },
  {
   "cell_type": "code",
   "execution_count": 13,
   "id": "40c0c553-0a07-4d46-b02d-cb9ac9a00fbb",
   "metadata": {},
   "outputs": [
    {
     "name": "stdout",
     "output_type": "stream",
     "text": [
      "PreferredLoginDevice\n",
      "Mobile Phone    2765\n",
      "Computer        1634\n",
      "Phone           1231\n",
      "Name: count, dtype: int64\n",
      "PreferredPaymentMode\n",
      "Debit Card          2314\n",
      "Credit Card         1501\n",
      "E wallet             614\n",
      "UPI                  414\n",
      "COD                  365\n",
      "CC                   273\n",
      "Cash on Delivery     149\n",
      "Name: count, dtype: int64\n",
      "Gender\n",
      "Male      3384\n",
      "Female    2246\n",
      "Name: count, dtype: int64\n",
      "PreferedOrderCat\n",
      "Laptop & Accessory    2050\n",
      "Mobile Phone          1271\n",
      "Fashion                826\n",
      "Mobile                 809\n",
      "Grocery                410\n",
      "Others                 264\n",
      "Name: count, dtype: int64\n",
      "MaritalStatus\n",
      "Married     2986\n",
      "Single      1796\n",
      "Divorced     848\n",
      "Name: count, dtype: int64\n",
      "CityTier\n",
      "1    3666\n",
      "3    1722\n",
      "2     242\n",
      "Name: count, dtype: int64\n",
      "Complain\n",
      "0    4026\n",
      "1    1604\n",
      "Name: count, dtype: int64\n",
      "Churn\n",
      "0    4682\n",
      "1     948\n",
      "Name: count, dtype: int64\n"
     ]
    }
   ],
   "source": [
    "for col in objcols.columns:\n",
    "    freq=objcols[col].value_counts(dropna=False) # It is used for showing missing values\n",
    "    print(freq)"
   ]
  },
  {
   "cell_type": "code",
   "execution_count": 14,
   "id": "30f7061a-79db-4ab3-95d2-122fe13cdf11",
   "metadata": {},
   "outputs": [],
   "source": [
    "objcols['PreferredPaymentMode']=objcols['PreferredPaymentMode'].str.replace(\"Cash on Delivery\",\"COD\")\n",
    "objcols['PreferredPaymentMode']=objcols['PreferredPaymentMode'].str.replace(\"CC\",\"Credit Card\")\n",
    "objcols['PreferedOrderCat']=objcols['PreferedOrderCat'].str.replace(\"Mobile Phone\",\"Mobile\")"
   ]
  },
  {
   "cell_type": "code",
   "execution_count": 15,
   "id": "40e422ba-9928-4caa-8e70-1206ddbc3f04",
   "metadata": {},
   "outputs": [],
   "source": [
    "#dummy encode objcols ( HOT ENCODING - convert the given columns in to binaries )\n",
    "# i.e  exclude chrun\n",
    "\n",
    "objcols_dummy=pd.get_dummies(objcols,columns=['PreferredLoginDevice', 'PreferredPaymentMode', 'Gender', 'PreferedOrderCat', 'MaritalStatus', 'CityTier', 'Complain'])"
   ]
  },
  {
   "cell_type": "code",
   "execution_count": 16,
   "id": "c868d720-2677-4e5d-92eb-160f00d66b59",
   "metadata": {},
   "outputs": [],
   "source": [
    "#concatenate both numeric cols and object cols\n",
    "ecomdf_final=pd.concat([numcols,objcols_dummy],axis=1)"
   ]
  },
  {
   "cell_type": "code",
   "execution_count": 17,
   "id": "fdbb8802-9695-4030-bdb3-684f342a8302",
   "metadata": {},
   "outputs": [],
   "source": [
    "# split data into x and y\n",
    "\n",
    "y=ecomdf_final['Churn']\n",
    "X=ecomdf_final.drop(['Churn','CustomerID'],axis=1)\n"
   ]
  },
  {
   "cell_type": "markdown",
   "id": "8d531cc4-cd5e-439f-8b81-5ef8a6093fbe",
   "metadata": {},
   "source": [
    "# Depenedent variable chrun is Binary Categorual variables (0/1 or No/ Yes )\n",
    "# Classification Algorithms must be used\n",
    "\n",
    "\n",
    "#BINARY LOGISTIC REGRESSION EXPLAINS RELATIONSHIP BETWEEN a binary dependant variable\n",
    "#(y) and multiple independent variables (x)\n",
    "#\n",
    "#        e^B0+B1X1+B2X2+B3X3 ...... BnXn\n",
    "# p = ---------------------------------\n",
    "#    1+ e^B0+B1X1+B2X2+B3X3 ...... BnXn\n",
    "\n",
    "# p - predicted probability that lies between 0 and 1\n",
    "# e - exponential or 2.718\n",
    "# B0 - intercept\n",
    "# B1,B2,B3 .... Bn - Coefficients\n",
    "# X1,X2,X3 .... Xn - Independent variables\n"
   ]
  },
  {
   "cell_type": "markdown",
   "id": "aea66f9f-f1fa-45e7-9c5a-56ddad0fc0cc",
   "metadata": {},
   "source": [
    "For any classification we need to create confusion matrix\n",
    "\n",
    "confusion matrix is a 2x2 Matrix of Actual Class & Predicted Class\n",
    "\n",
    "Accuracy mist ne netweem .70 and .95\n",
    "\n",
    "Accuracy-(TP+TN)/(TP+FN+FP+TN)\n",
    "\n",
    "Other metrices are\n",
    "\n",
    "Sensitivity or Recall= TP/ (TP+TN)  , i.r. how many positives are correctly predicted\n",
    "\n",
    "Specificity = TN/(TN+FP ) . How many negative are correctly predicted as negative\n",
    "\n",
    "Precision = TP/ (TP+FP). Overall Positive prediction rate\n",
    "\n",
    "Alternative to accuracy is F1 score\n",
    "\n",
    "                Precision * Recall\n",
    "F1 Score= 2 X ----------------------\n",
    "                Precision * Recall\n",
    "\n",
    "\n"
   ]
  },
  {
   "cell_type": "markdown",
   "id": "12a6a640-e280-4254-b1d3-fa15bb8b9cb3",
   "metadata": {},
   "source": [
    "![Alt Hi](https://blogger.googleusercontent.com/img/b/R29vZ2xl/AVvXsEiqxBWDxr82HWBNDD-XI22ht1rEZdhCUXilxAMtKFQugD4WxvEUUfqBv6fZfPwQ7MZZn_AM-xXGjhl2yeaHfWq47U2yKuigKcqy3wi5LQx7ExuJEnkdIJfyZHjpzRCkbYXil8z69kLf4a2_/s1600/confusionMatrxiUpdated.jpg)"
   ]
  },
  {
   "cell_type": "code",
   "execution_count": 19,
   "id": "6b20ee8c-d8eb-4b44-b86b-0b214b340c6a",
   "metadata": {},
   "outputs": [],
   "source": [
    "from sklearn.linear_model import LogisticRegression"
   ]
  },
  {
   "cell_type": "code",
   "execution_count": 20,
   "id": "2f683fd5-3365-4d2b-8aa9-77d9a1bed42f",
   "metadata": {},
   "outputs": [],
   "source": [
    "logistic_model=LogisticRegression(max_iter=5000).fit(X,y)"
   ]
  },
  {
   "cell_type": "code",
   "execution_count": 21,
   "id": "7f39ce91-5c78-4ec5-92db-7a42fd704c17",
   "metadata": {},
   "outputs": [
    {
     "data": {
      "text/plain": [
       "0.8966252220248668"
      ]
     },
     "execution_count": 21,
     "metadata": {},
     "output_type": "execute_result"
    }
   ],
   "source": [
    "logistic_model.score(X,y)"
   ]
  },
  {
   "cell_type": "code",
   "execution_count": 22,
   "id": "5f86ac64-2dbe-45fe-9137-e926cfeb6e15",
   "metadata": {},
   "outputs": [],
   "source": [
    "logistic_pred=logistic_model.predict(X)"
   ]
  },
  {
   "cell_type": "code",
   "execution_count": 23,
   "id": "5f451d74-c9d2-4654-8449-4663c80a7436",
   "metadata": {},
   "outputs": [
    {
     "data": {
      "text/html": [
       "<div>\n",
       "<style scoped>\n",
       "    .dataframe tbody tr th:only-of-type {\n",
       "        vertical-align: middle;\n",
       "    }\n",
       "\n",
       "    .dataframe tbody tr th {\n",
       "        vertical-align: top;\n",
       "    }\n",
       "\n",
       "    .dataframe thead th {\n",
       "        text-align: right;\n",
       "    }\n",
       "</style>\n",
       "<table border=\"1\" class=\"dataframe\">\n",
       "  <thead>\n",
       "    <tr style=\"text-align: right;\">\n",
       "      <th>col_0</th>\n",
       "      <th>0</th>\n",
       "      <th>1</th>\n",
       "    </tr>\n",
       "    <tr>\n",
       "      <th>Churn</th>\n",
       "      <th></th>\n",
       "      <th></th>\n",
       "    </tr>\n",
       "  </thead>\n",
       "  <tbody>\n",
       "    <tr>\n",
       "      <th>0</th>\n",
       "      <td>4543</td>\n",
       "      <td>139</td>\n",
       "    </tr>\n",
       "    <tr>\n",
       "      <th>1</th>\n",
       "      <td>443</td>\n",
       "      <td>505</td>\n",
       "    </tr>\n",
       "  </tbody>\n",
       "</table>\n",
       "</div>"
      ],
      "text/plain": [
       "col_0     0    1\n",
       "Churn           \n",
       "0      4543  139\n",
       "1       443  505"
      ]
     },
     "execution_count": 23,
     "metadata": {},
     "output_type": "execute_result"
    }
   ],
   "source": [
    "pd.crosstab(y,logistic_pred)\n",
    "#True Positive - 4543 ; False Positive  - 139 ; False Positive - 443 ; True Negatives - 505"
   ]
  },
  {
   "cell_type": "code",
   "execution_count": 24,
   "id": "06dca162-4ddd-46e9-8046-cc4ac6401432",
   "metadata": {},
   "outputs": [
    {
     "data": {
      "text/plain": [
       "Index(['Tenure', 'WarehouseToHome', 'HourSpendOnApp',\n",
       "       'NumberOfDeviceRegistered', 'SatisfactionScore', 'NumberOfAddress',\n",
       "       'OrderAmountHikeFromlastYear', 'CouponUsed', 'OrderCount',\n",
       "       'DaySinceLastOrder', 'CashbackAmount', 'PreferredLoginDevice_Computer',\n",
       "       'PreferredLoginDevice_Mobile Phone', 'PreferredLoginDevice_Phone',\n",
       "       'PreferredPaymentMode_COD', 'PreferredPaymentMode_Credit Card',\n",
       "       'PreferredPaymentMode_Debit Card', 'PreferredPaymentMode_E wallet',\n",
       "       'PreferredPaymentMode_UPI', 'Gender_Female', 'Gender_Male',\n",
       "       'PreferedOrderCat_Fashion', 'PreferedOrderCat_Grocery',\n",
       "       'PreferedOrderCat_Laptop & Accessory', 'PreferedOrderCat_Mobile',\n",
       "       'PreferedOrderCat_Others', 'MaritalStatus_Divorced',\n",
       "       'MaritalStatus_Married', 'MaritalStatus_Single', 'CityTier_1',\n",
       "       'CityTier_2', 'CityTier_3', 'Complain_0', 'Complain_1'],\n",
       "      dtype='object')"
      ]
     },
     "execution_count": 24,
     "metadata": {},
     "output_type": "execute_result"
    }
   ],
   "source": [
    "X.columns"
   ]
  },
  {
   "cell_type": "code",
   "execution_count": 25,
   "id": "f279e9bc-d080-405d-b50c-8e4ae95d37f3",
   "metadata": {},
   "outputs": [],
   "source": [
    "X_new=X[['OrderAmountHikeFromlastYear','CouponUsed','OrderCount','DaySinceLastOrder','CashbackAmount']]"
   ]
  },
  {
   "cell_type": "code",
   "execution_count": 26,
   "id": "a9feeb9d-7e0d-4ccc-92ed-a9cda36d77c4",
   "metadata": {},
   "outputs": [],
   "source": [
    "logit=LogisticRegression(solver=\"sag\").fit(X_new,y)"
   ]
  },
  {
   "cell_type": "code",
   "execution_count": 27,
   "id": "d6033198-9cec-4fa7-8065-ed91622efd69",
   "metadata": {},
   "outputs": [
    {
     "name": "stdout",
     "output_type": "stream",
     "text": [
      "Intercept [0.0148851]\n",
      "coefficient [[ 0.00542249  0.05737281  0.07678973 -0.1486106  -0.00846536]]\n"
     ]
    }
   ],
   "source": [
    "print(\"Intercept\",logit.intercept_)\n",
    "print(\"coefficient\",logit.coef_)"
   ]
  },
  {
   "cell_type": "code",
   "execution_count": 28,
   "id": "f6c0e89d-7acb-427a-bd64-fb14da7f69f1",
   "metadata": {},
   "outputs": [
    {
     "data": {
      "text/plain": [
       "<bound method LogisticRegression.predict_log_proba of LogisticRegression(solver='sag')>"
      ]
     },
     "execution_count": 28,
     "metadata": {},
     "output_type": "execute_result"
    }
   ],
   "source": [
    "logit.predict_log_proba"
   ]
  },
  {
   "cell_type": "markdown",
   "id": "5b729638-0d31-4a8e-a48c-447f9590b781",
   "metadata": {},
   "source": [
    "# ######################## UPDATE ON 15 JAN 2025 ##########################\n",
    "\n",
    "Included code "
   ]
  },
  {
   "cell_type": "code",
   "execution_count": 29,
   "id": "24fe17cb-2719-4fab-a6fc-a51d8159a376",
   "metadata": {},
   "outputs": [],
   "source": [
    "from sklearn.tree import DecisionTreeClassifier ,plot_tree\n",
    "from sklearn.model_selection import cross_val_score\n",
    "#import pandas as pd\n",
    "#import numpy as np\n",
    "#import matplotlib.pyplot as plt\n",
    "#%matplotlib inline"
   ]
  },
  {
   "cell_type": "code",
   "execution_count": 30,
   "id": "996aad57-0e3a-43d8-b323-1bcab99b3563",
   "metadata": {},
   "outputs": [],
   "source": [
    "treemodel=DecisionTreeClassifier().fit(X,y)"
   ]
  },
  {
   "cell_type": "code",
   "execution_count": 31,
   "id": "5cbbebef-d8fe-404f-b27d-ccc7ca8c7469",
   "metadata": {},
   "outputs": [
    {
     "data": {
      "text/plain": [
       "1.0"
      ]
     },
     "execution_count": 31,
     "metadata": {},
     "output_type": "execute_result"
    }
   ],
   "source": [
    "treemodel.score(X,y)"
   ]
  },
  {
   "cell_type": "code",
   "execution_count": 33,
   "id": "ae6a627c-2d8b-4ffd-9c55-5359332223f7",
   "metadata": {},
   "outputs": [
    {
     "data": {
      "text/plain": [
       "array([0.98579041, 0.97513321, 0.98934281, 0.97690941, 0.98756661])"
      ]
     },
     "execution_count": 33,
     "metadata": {},
     "output_type": "execute_result"
    }
   ],
   "source": [
    "cross_val_score(treemodel,X,y,cv=5)"
   ]
  },
  {
   "cell_type": "code",
   "execution_count": 34,
   "id": "d56df93d-0e74-4467-b1f8-7eb172b56457",
   "metadata": {},
   "outputs": [
    {
     "data": {
      "text/html": [
       "<div>\n",
       "<style scoped>\n",
       "    .dataframe tbody tr th:only-of-type {\n",
       "        vertical-align: middle;\n",
       "    }\n",
       "\n",
       "    .dataframe tbody tr th {\n",
       "        vertical-align: top;\n",
       "    }\n",
       "\n",
       "    .dataframe thead th {\n",
       "        text-align: right;\n",
       "    }\n",
       "</style>\n",
       "<table border=\"1\" class=\"dataframe\">\n",
       "  <thead>\n",
       "    <tr style=\"text-align: right;\">\n",
       "      <th></th>\n",
       "      <th>0</th>\n",
       "    </tr>\n",
       "  </thead>\n",
       "  <tbody>\n",
       "    <tr>\n",
       "      <th>0.274901</th>\n",
       "      <td>Tenure</td>\n",
       "    </tr>\n",
       "    <tr>\n",
       "      <th>0.087273</th>\n",
       "      <td>WarehouseToHome</td>\n",
       "    </tr>\n",
       "    <tr>\n",
       "      <th>0.077438</th>\n",
       "      <td>DaySinceLastOrder</td>\n",
       "    </tr>\n",
       "    <tr>\n",
       "      <th>0.072472</th>\n",
       "      <td>CashbackAmount</td>\n",
       "    </tr>\n",
       "    <tr>\n",
       "      <th>0.066544</th>\n",
       "      <td>NumberOfAddress</td>\n",
       "    </tr>\n",
       "    <tr>\n",
       "      <th>0.057719</th>\n",
       "      <td>OrderAmountHikeFromlastYear</td>\n",
       "    </tr>\n",
       "    <tr>\n",
       "      <th>0.046905</th>\n",
       "      <td>Complain_1</td>\n",
       "    </tr>\n",
       "    <tr>\n",
       "      <th>0.038771</th>\n",
       "      <td>NumberOfDeviceRegistered</td>\n",
       "    </tr>\n",
       "    <tr>\n",
       "      <th>0.032754</th>\n",
       "      <td>MaritalStatus_Single</td>\n",
       "    </tr>\n",
       "    <tr>\n",
       "      <th>0.031960</th>\n",
       "      <td>SatisfactionScore</td>\n",
       "    </tr>\n",
       "    <tr>\n",
       "      <th>0.017696</th>\n",
       "      <td>Complain_0</td>\n",
       "    </tr>\n",
       "    <tr>\n",
       "      <th>0.017414</th>\n",
       "      <td>PreferredPaymentMode_COD</td>\n",
       "    </tr>\n",
       "    <tr>\n",
       "      <th>0.016630</th>\n",
       "      <td>PreferredPaymentMode_Credit Card</td>\n",
       "    </tr>\n",
       "    <tr>\n",
       "      <th>0.016094</th>\n",
       "      <td>OrderCount</td>\n",
       "    </tr>\n",
       "    <tr>\n",
       "      <th>0.015362</th>\n",
       "      <td>HourSpendOnApp</td>\n",
       "    </tr>\n",
       "    <tr>\n",
       "      <th>0.015027</th>\n",
       "      <td>PreferredLoginDevice_Computer</td>\n",
       "    </tr>\n",
       "    <tr>\n",
       "      <th>0.014227</th>\n",
       "      <td>CityTier_3</td>\n",
       "    </tr>\n",
       "    <tr>\n",
       "      <th>0.012455</th>\n",
       "      <td>PreferredPaymentMode_Debit Card</td>\n",
       "    </tr>\n",
       "    <tr>\n",
       "      <th>0.012070</th>\n",
       "      <td>PreferredPaymentMode_E wallet</td>\n",
       "    </tr>\n",
       "    <tr>\n",
       "      <th>0.011705</th>\n",
       "      <td>PreferedOrderCat_Laptop &amp; Accessory</td>\n",
       "    </tr>\n",
       "    <tr>\n",
       "      <th>0.009511</th>\n",
       "      <td>CityTier_1</td>\n",
       "    </tr>\n",
       "    <tr>\n",
       "      <th>0.009240</th>\n",
       "      <td>PreferredLoginDevice_Phone</td>\n",
       "    </tr>\n",
       "    <tr>\n",
       "      <th>0.008426</th>\n",
       "      <td>PreferedOrderCat_Mobile</td>\n",
       "    </tr>\n",
       "    <tr>\n",
       "      <th>0.007609</th>\n",
       "      <td>CityTier_2</td>\n",
       "    </tr>\n",
       "    <tr>\n",
       "      <th>0.006603</th>\n",
       "      <td>PreferedOrderCat_Fashion</td>\n",
       "    </tr>\n",
       "    <tr>\n",
       "      <th>0.006440</th>\n",
       "      <td>MaritalStatus_Married</td>\n",
       "    </tr>\n",
       "    <tr>\n",
       "      <th>0.004888</th>\n",
       "      <td>Gender_Female</td>\n",
       "    </tr>\n",
       "    <tr>\n",
       "      <th>0.004464</th>\n",
       "      <td>Gender_Male</td>\n",
       "    </tr>\n",
       "    <tr>\n",
       "      <th>0.002903</th>\n",
       "      <td>CouponUsed</td>\n",
       "    </tr>\n",
       "    <tr>\n",
       "      <th>0.002602</th>\n",
       "      <td>PreferredPaymentMode_UPI</td>\n",
       "    </tr>\n",
       "    <tr>\n",
       "      <th>0.001896</th>\n",
       "      <td>PreferedOrderCat_Others</td>\n",
       "    </tr>\n",
       "    <tr>\n",
       "      <th>0.000000</th>\n",
       "      <td>MaritalStatus_Divorced</td>\n",
       "    </tr>\n",
       "    <tr>\n",
       "      <th>0.000000</th>\n",
       "      <td>PreferedOrderCat_Grocery</td>\n",
       "    </tr>\n",
       "    <tr>\n",
       "      <th>0.000000</th>\n",
       "      <td>PreferredLoginDevice_Mobile Phone</td>\n",
       "    </tr>\n",
       "  </tbody>\n",
       "</table>\n",
       "</div>"
      ],
      "text/plain": [
       "                                            0\n",
       "0.274901                               Tenure\n",
       "0.087273                      WarehouseToHome\n",
       "0.077438                    DaySinceLastOrder\n",
       "0.072472                       CashbackAmount\n",
       "0.066544                      NumberOfAddress\n",
       "0.057719          OrderAmountHikeFromlastYear\n",
       "0.046905                           Complain_1\n",
       "0.038771             NumberOfDeviceRegistered\n",
       "0.032754                 MaritalStatus_Single\n",
       "0.031960                    SatisfactionScore\n",
       "0.017696                           Complain_0\n",
       "0.017414             PreferredPaymentMode_COD\n",
       "0.016630     PreferredPaymentMode_Credit Card\n",
       "0.016094                           OrderCount\n",
       "0.015362                       HourSpendOnApp\n",
       "0.015027        PreferredLoginDevice_Computer\n",
       "0.014227                           CityTier_3\n",
       "0.012455      PreferredPaymentMode_Debit Card\n",
       "0.012070        PreferredPaymentMode_E wallet\n",
       "0.011705  PreferedOrderCat_Laptop & Accessory\n",
       "0.009511                           CityTier_1\n",
       "0.009240           PreferredLoginDevice_Phone\n",
       "0.008426              PreferedOrderCat_Mobile\n",
       "0.007609                           CityTier_2\n",
       "0.006603             PreferedOrderCat_Fashion\n",
       "0.006440                MaritalStatus_Married\n",
       "0.004888                        Gender_Female\n",
       "0.004464                          Gender_Male\n",
       "0.002903                           CouponUsed\n",
       "0.002602             PreferredPaymentMode_UPI\n",
       "0.001896              PreferedOrderCat_Others\n",
       "0.000000               MaritalStatus_Divorced\n",
       "0.000000             PreferedOrderCat_Grocery\n",
       "0.000000    PreferredLoginDevice_Mobile Phone"
      ]
     },
     "execution_count": 34,
     "metadata": {},
     "output_type": "execute_result"
    }
   ],
   "source": [
    "pd.DataFrame(X.columns,treemodel.feature_importances_).sort_index(ascending=False)"
   ]
  },
  {
   "cell_type": "markdown",
   "id": "2097fbca-937d-4926-ab66-0213abf625d8",
   "metadata": {},
   "source": [
    "# get the variables used by cross validation Score .As these are greater than 0"
   ]
  }
 ],
 "metadata": {
  "kernelspec": {
   "display_name": "Python 3 (ipykernel)",
   "language": "python",
   "name": "python3"
  },
  "language_info": {
   "codemirror_mode": {
    "name": "ipython",
    "version": 3
   },
   "file_extension": ".py",
   "mimetype": "text/x-python",
   "name": "python",
   "nbconvert_exporter": "python",
   "pygments_lexer": "ipython3",
   "version": "3.12.7"
  }
 },
 "nbformat": 4,
 "nbformat_minor": 5
}
