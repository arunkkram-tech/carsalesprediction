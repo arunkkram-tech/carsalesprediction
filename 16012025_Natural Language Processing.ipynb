{
 "cells": [
  {
   "cell_type": "code",
   "execution_count": 1,
   "id": "d33eebf5-554a-4e16-ac9c-ded3680095b3",
   "metadata": {},
   "outputs": [
    {
     "name": "stdout",
     "output_type": "stream",
     "text": [
      "Defaulting to user installation because normal site-packages is not writeable\n",
      "Requirement already satisfied: nltk in c:\\programdata\\anaconda3\\lib\\site-packages (3.9.1)\n",
      "Requirement already satisfied: click in c:\\programdata\\anaconda3\\lib\\site-packages (from nltk) (8.1.7)\n",
      "Requirement already satisfied: joblib in c:\\programdata\\anaconda3\\lib\\site-packages (from nltk) (1.4.2)\n",
      "Requirement already satisfied: regex>=2021.8.3 in c:\\programdata\\anaconda3\\lib\\site-packages (from nltk) (2024.9.11)\n",
      "Requirement already satisfied: tqdm in c:\\programdata\\anaconda3\\lib\\site-packages (from nltk) (4.66.5)\n",
      "Requirement already satisfied: colorama in c:\\programdata\\anaconda3\\lib\\site-packages (from click->nltk) (0.4.6)\n"
     ]
    }
   ],
   "source": [
    "!pip install nltk"
   ]
  },
  {
   "cell_type": "code",
   "execution_count": null,
   "id": "4a95910b-525b-44b9-8708-c9e881220a46",
   "metadata": {},
   "outputs": [
    {
     "name": "stdout",
     "output_type": "stream",
     "text": [
      "showing info https://raw.githubusercontent.com/nltk/nltk_data/gh-pages/index.xml\n"
     ]
    }
   ],
   "source": [
    "import nltk\n",
    "nltk.download()"
   ]
  },
  {
   "cell_type": "markdown",
   "id": "9f29c9b1-b4fe-4d24-ac51-4840ba9accad",
   "metadata": {},
   "source": [
    "# Natural Language Processing\n",
    "\n",
    "\n",
    "Deal with text data - in the form of documents, web pages , social media , reviews \n",
    "\n",
    "Text data is unsupervised learning data whjich does not have a structure and do not have any independant & dependat variables\n",
    "\n",
    "1. It requires pre- processing ( removal of puncuation, special characters , hypoer link , digits etc . )\n",
    "2. After pre-processing the text data is converted to matrix of numbers - Vectorization.\n",
    "                         - Vector embedding is also used to create matrix of numbers  \n",
    "3. After step2 , the data now will be come supervised learning data and ML/DL/AI can be easily built\n"
   ]
  },
  {
   "cell_type": "code",
   "execution_count": 1,
   "id": "855f9b38-afe5-4eb9-9d7f-1f13411bf832",
   "metadata": {},
   "outputs": [],
   "source": [
    "import pandas as pd\n",
    "import numpy as np\n",
    "import matplotlib.pyplot as plt\n",
    "%matplotlib inline\n",
    "\n",
    "import nltk\n",
    "import re\n",
    "import requests\n",
    "from bs4 import BeautifulSoup"
   ]
  },
  {
   "cell_type": "code",
   "execution_count": 2,
   "id": "8fe3eb1d-96c3-4754-867c-fddb8846753c",
   "metadata": {},
   "outputs": [],
   "source": [
    "climatewiki=requests.get('https://en.wikipedia.org/wiki/Climate_change')"
   ]
  },
  {
   "cell_type": "code",
   "execution_count": 3,
   "id": "5a20e119-f48e-4268-a32a-d826fd781bbc",
   "metadata": {},
   "outputs": [],
   "source": [
    "climatedf=BeautifulSoup(climatewiki.content,'lxml')"
   ]
  },
  {
   "cell_type": "code",
   "execution_count": 4,
   "id": "ca3e6823-60a2-4e2e-b403-dd873ed542eb",
   "metadata": {},
   "outputs": [],
   "source": [
    "climatetxt=climatedf.getText(strip=True)"
   ]
  },
  {
   "cell_type": "code",
   "execution_count": null,
   "id": "0fbe46e5-4c77-400f-ae56-508038265d1a",
   "metadata": {},
   "outputs": [],
   "source": [
    "climatetxt"
   ]
  },
  {
   "cell_type": "markdown",
   "id": "e0588c9d-856e-4200-9ad6-2417b0f50e08",
   "metadata": {},
   "source": [
    "# NOW CLEAN THE TEXT  - PREPROCESSING"
   ]
  },
  {
   "cell_type": "markdown",
   "id": "be9df2a5-fe95-4264-a250-3a4dafe70cb5",
   "metadata": {},
   "source": [
    "for pre processing / cleaning - RE library is used\n",
    "\n",
    "\n",
    "\\d+ for digits\n",
    "\\w+ for words\n",
    "[\\(?*.\\]  special characters etc\n"
   ]
  },
  {
   "cell_type": "code",
   "execution_count": 38,
   "id": "c6fc6981-6535-4e9e-b464-769dfd1cf025",
   "metadata": {},
   "outputs": [],
   "source": [
    "climatetxt=re.sub(r'\\[d+\\]',\" \",climatetxt) # replace numbers\n",
    "climatetxt=re.sub(r'\\[w+\\]',\" \",climatetxt) #replace words with in ( ) with space\n",
    "climatetxt=re.sub(r'[\\(\\[].*?]\\)\\]]',\" \",climatetxt)  # remove special characters\n",
    "climatetxt=re.sub(r'[0-9]+',\" \",climatetxt)  # remove all digits\n",
    "climatetxt=re.sub(r'\\xa0°C',\" \",climatetxt)  # remove all \\xa0°C\n",
    "climatetxt=re.sub(r'\\xa0°F',\" \",climatetxt)\n",
    "climatetxt=re.sub(r'\\xa0',\" \",climatetxt)\n",
    "climatetxt=re.sub(r':\\u200a',\" \",climatetxt)\n",
    "climatetxt=re.sub(r'%',\" \",climatetxt)  # remove all %\n",
    "climatetxt = re.sub(r\"[\\[\\]]\", \" \", climatetxt)\n",
    "climatetxt = re.sub(r\"[()]\", \" \", climatetxt)\n",
    "climatetxt = re.sub(r\"\\\\\", \"\", climatetxt)"
   ]
  },
  {
   "cell_type": "code",
   "execution_count": null,
   "id": "4baa9306-aaca-4450-bff0-060c4f9f8515",
   "metadata": {},
   "outputs": [],
   "source": [
    "climatetxt"
   ]
  },
  {
   "cell_type": "markdown",
   "id": "e9dabd56-69c4-44d6-bde1-b19da8fddf7b",
   "metadata": {},
   "source": [
    "1. Tokenization - Beaking content into sentences or words/tokesn\n",
    "2. Sentence Tokenization - Break content into sentences .delimter is fullstop\n",
    "3. Word Tokenization - Break content into words or tokens. delimter is space"
   ]
  },
  {
   "cell_type": "code",
   "execution_count": 40,
   "id": "60228235-5d0a-49ea-822e-044327f60fc0",
   "metadata": {},
   "outputs": [],
   "source": [
    "from nltk.tokenize import sent_tokenize,word_tokenize\n",
    "#nltk.download('punkt_tab')"
   ]
  },
  {
   "cell_type": "code",
   "execution_count": 41,
   "id": "158d6bb4-ea8f-4e9e-b029-677e13b3ecc5",
   "metadata": {},
   "outputs": [],
   "source": [
    "sentences=sent_tokenize(climatetxt)"
   ]
  },
  {
   "cell_type": "code",
   "execution_count": 47,
   "id": "6a8f401f-2afa-4b06-9016-5cba2ed05bf3",
   "metadata": {},
   "outputs": [
    {
     "data": {
      "text/html": [
       "<div>\n",
       "<style scoped>\n",
       "    .dataframe tbody tr th:only-of-type {\n",
       "        vertical-align: middle;\n",
       "    }\n",
       "\n",
       "    .dataframe tbody tr th {\n",
       "        vertical-align: top;\n",
       "    }\n",
       "\n",
       "    .dataframe thead th {\n",
       "        text-align: right;\n",
       "    }\n",
       "</style>\n",
       "<table border=\"1\" class=\"dataframe\">\n",
       "  <thead>\n",
       "    <tr style=\"text-align: right;\">\n",
       "      <th></th>\n",
       "      <th>sentences</th>\n",
       "    </tr>\n",
       "  </thead>\n",
       "  <tbody>\n",
       "    <tr>\n",
       "      <th>0</th>\n",
       "      <td>Climate change - WikipediaJump to contentMain ...</td>\n",
       "    </tr>\n",
       "    <tr>\n",
       "      <th>1</th>\n",
       "      <td>Temperatures prior to present-day global warmi...</td>\n",
       "    </tr>\n",
       "  </tbody>\n",
       "</table>\n",
       "</div>"
      ],
      "text/plain": [
       "                                           sentences\n",
       "0  Climate change - WikipediaJump to contentMain ...\n",
       "1  Temperatures prior to present-day global warmi..."
      ]
     },
     "execution_count": 47,
     "metadata": {},
     "output_type": "execute_result"
    }
   ],
   "source": [
    "sentences=pd.DataFrame(sentences,columns=['sentences'])\n",
    "sentences.head(2)"
   ]
  },
  {
   "cell_type": "markdown",
   "id": "22a20cdd-5860-4f09-9947-f66fe0cba96d",
   "metadata": {},
   "source": [
    "# SENTIMENT ANALYSIS\n",
    "\n",
    "textlib - library - (DEVELOPED BY STANFORD NLP and it is being widely used in many production enviornments)\n",
    "\n",
    "It is done by comparing text/words to predefined list or lexicon of positive,negative & neutral words.\n",
    "    \n",
    "    Two metrices are calculated\n",
    "    \n",
    "    1. Ploarity Score that lies between -1 to 1. Positive if polarity score  > 0, Neutral of polarity score=0 & negative of polarity score < 0. Polarity Score is calculated based on a pretrained model on different types of words\n",
    "\n",
    "    2. Subjectivity Score lies between 0 and 1. Close to 1 indicates high personal opinion without factual information and close 0 indicates low personal opinion with factual information\n",
    "\n",
    "\n",
    "    \n"
   ]
  },
  {
   "cell_type": "code",
   "execution_count": null,
   "id": "c1050823-e8e2-4f84-bbe4-8cfec908e3fc",
   "metadata": {},
   "outputs": [],
   "source": [
    "!pip install textblob"
   ]
  },
  {
   "cell_type": "code",
   "execution_count": 48,
   "id": "de434750-1e06-4319-9ad5-5a1383ac4d59",
   "metadata": {},
   "outputs": [],
   "source": [
    "from textblob import TextBlob"
   ]
  },
  {
   "cell_type": "code",
   "execution_count": 49,
   "id": "d008e244-ccc2-4c32-b486-9c82eb4e1913",
   "metadata": {},
   "outputs": [
    {
     "data": {
      "text/plain": [
       "Sentiment(polarity=1.0, subjectivity=1.0)"
      ]
     },
     "execution_count": 49,
     "metadata": {},
     "output_type": "execute_result"
    }
   ],
   "source": [
    "s1=TextBlob(\"Tendulkar is a the greatest bastman in cricket sport\")\n",
    "s1.sentiment"
   ]
  },
  {
   "cell_type": "code",
   "execution_count": 50,
   "id": "6896ca16-6acd-46ab-95b7-102dee43b90c",
   "metadata": {},
   "outputs": [
    {
     "data": {
      "text/plain": [
       "Sentiment(polarity=1.0, subjectivity=1.0)"
      ]
     },
     "execution_count": 50,
     "metadata": {},
     "output_type": "execute_result"
    }
   ],
   "source": [
    "s2=TextBlob(\"Tendulkar is a the greatest bastman in the sports of cricket who scored 25000 runs in the sport\")\n",
    "s2.sentiment"
   ]
  },
  {
   "cell_type": "code",
   "execution_count": 51,
   "id": "c9621c76-9697-4956-b314-06320861af79",
   "metadata": {},
   "outputs": [],
   "source": [
    "def analyze_sentiment(text):\n",
    "    analysis=TextBlob(text)\n",
    "    if(analysis.sentiment.polarity>0):        \n",
    "        return \"Positive\"\n",
    "    elif(analysis.sentiment.polarity==0):\n",
    "        return \"Neutral\"\n",
    "    else:\n",
    "        return \"Negative\"    "
   ]
  },
  {
   "cell_type": "code",
   "execution_count": 53,
   "id": "beea1d50-da4f-4cec-ae85-4d87171a3ce5",
   "metadata": {},
   "outputs": [],
   "source": [
    "sentences['sentiment']=[str(analyze_sentiment(x)) for x in sentences.sentences ]"
   ]
  },
  {
   "cell_type": "code",
   "execution_count": 55,
   "id": "0ee05e7f-c41b-4432-913e-e9df074ed3b5",
   "metadata": {},
   "outputs": [
    {
     "data": {
      "text/plain": [
       "sentiment\n",
       "Neutral     1711\n",
       "Positive     408\n",
       "Negative     195\n",
       "Name: count, dtype: int64"
      ]
     },
     "execution_count": 55,
     "metadata": {},
     "output_type": "execute_result"
    }
   ],
   "source": [
    "sentences['sentiment'].value_counts()"
   ]
  },
  {
   "cell_type": "code",
   "execution_count": 56,
   "id": "6a7fa899-533e-410d-ae75-2886cd319432",
   "metadata": {},
   "outputs": [
    {
     "data": {
      "text/html": [
       "<div>\n",
       "<style scoped>\n",
       "    .dataframe tbody tr th:only-of-type {\n",
       "        vertical-align: middle;\n",
       "    }\n",
       "\n",
       "    .dataframe tbody tr th {\n",
       "        vertical-align: top;\n",
       "    }\n",
       "\n",
       "    .dataframe thead th {\n",
       "        text-align: right;\n",
       "    }\n",
       "</style>\n",
       "<table border=\"1\" class=\"dataframe\">\n",
       "  <thead>\n",
       "    <tr style=\"text-align: right;\">\n",
       "      <th></th>\n",
       "      <th>sentences</th>\n",
       "      <th>sentiment</th>\n",
       "    </tr>\n",
       "  </thead>\n",
       "  <tbody>\n",
       "    <tr>\n",
       "      <th>0</th>\n",
       "      <td>Climate change - WikipediaJump to contentMain ...</td>\n",
       "      <td>Positive</td>\n",
       "    </tr>\n",
       "    <tr>\n",
       "      <th>1</th>\n",
       "      <td>Temperatures prior to present-day global warmi...</td>\n",
       "      <td>Neutral</td>\n",
       "    </tr>\n",
       "    <tr>\n",
       "      <th>2</th>\n",
       "      <td>Warming since the Industrial Revolution .</td>\n",
       "      <td>Neutral</td>\n",
       "    </tr>\n",
       "    <tr>\n",
       "      <th>3</th>\n",
       "      <td>.</td>\n",
       "      <td>Neutral</td>\n",
       "    </tr>\n",
       "    <tr>\n",
       "      <th>4</th>\n",
       "      <td>Differences by region .</td>\n",
       "      <td>Neutral</td>\n",
       "    </tr>\n",
       "  </tbody>\n",
       "</table>\n",
       "</div>"
      ],
      "text/plain": [
       "                                           sentences sentiment\n",
       "0  Climate change - WikipediaJump to contentMain ...  Positive\n",
       "1  Temperatures prior to present-day global warmi...   Neutral\n",
       "2          Warming since the Industrial Revolution .   Neutral\n",
       "3                                                  .   Neutral\n",
       "4                            Differences by region .   Neutral"
      ]
     },
     "execution_count": 56,
     "metadata": {},
     "output_type": "execute_result"
    }
   ],
   "source": [
    "sentences.head()"
   ]
  },
  {
   "cell_type": "markdown",
   "id": "acb9e327-2c98-4c17-93f1-4a378d479ebb",
   "metadata": {},
   "source": [
    "# NLP  - Words/Tokens are the inputs"
   ]
  },
  {
   "cell_type": "code",
   "execution_count": 58,
   "id": "db71e919-a077-4a72-81a8-68bba9918ffd",
   "metadata": {},
   "outputs": [],
   "source": [
    "cilmatewords=word_tokenize(climatetxt)"
   ]
  },
  {
   "cell_type": "code",
   "execution_count": 59,
   "id": "5d416136-6ec1-4b7d-b20d-84546a97b7a3",
   "metadata": {},
   "outputs": [],
   "source": [
    "cilmatewords=[w for w in cilmatewords if w.isalnum()]  # USE LIST COMPREHENSION"
   ]
  },
  {
   "cell_type": "code",
   "execution_count": null,
   "id": "1c8e0813-53fb-491d-b71c-ccd58054bfe2",
   "metadata": {},
   "outputs": [],
   "source": [
    "cilmatewords"
   ]
  },
  {
   "cell_type": "code",
   "execution_count": 64,
   "id": "1049afb5-6201-4277-8d7c-07ccffbf0902",
   "metadata": {},
   "outputs": [
    {
     "name": "stderr",
     "output_type": "stream",
     "text": [
      "[nltk_data] Downloading package stopwords to\n",
      "[nltk_data]     C:\\Users\\Acer\\AppData\\Roaming\\nltk_data...\n",
      "[nltk_data]   Unzipping corpora\\stopwords.zip.\n"
     ]
    },
    {
     "data": {
      "text/plain": [
       "True"
      ]
     },
     "execution_count": 64,
     "metadata": {},
     "output_type": "execute_result"
    }
   ],
   "source": [
    "from nltk.corpus import stopwords\n",
    "nltk.download('stopwords')\n",
    "# are the list of words like       is,then, an ,a etc not required for analysis"
   ]
  },
  {
   "cell_type": "code",
   "execution_count": 66,
   "id": "8e121998-6a0e-4e1c-a0f0-ba647f3e8608",
   "metadata": {},
   "outputs": [],
   "source": [
    "eng_stopwords=set(stopwords.words(\"english\"))"
   ]
  },
  {
   "cell_type": "code",
   "execution_count": 69,
   "id": "1dee80e0-d367-42c5-aa52-0507b21319eb",
   "metadata": {},
   "outputs": [],
   "source": [
    "cilmatewords=[w.lower() for w in cilmatewords]\n",
    "\n",
    "cilmatewords= [w for w in cilmatewords if not str.lower(w) in  eng_stopwords]"
   ]
  },
  {
   "cell_type": "code",
   "execution_count": 72,
   "id": "3d6bbaa0-45d5-4820-a0b5-c8dab4080852",
   "metadata": {},
   "outputs": [],
   "source": [
    "cilmatewords=[w for w in cilmatewords if len(w) > 2 ]"
   ]
  },
  {
   "cell_type": "code",
   "execution_count": 75,
   "id": "f69fa760-6882-47ce-8dea-9bf0a805fe58",
   "metadata": {},
   "outputs": [],
   "source": [
    "from nltk.probability import FreqDist"
   ]
  },
  {
   "cell_type": "code",
   "execution_count": 76,
   "id": "12627cc1-0aa7-47da-882e-70bb5cc6f488",
   "metadata": {},
   "outputs": [],
   "source": [
    "wordfreq=FreqDist(cilmatewords)"
   ]
  },
  {
   "cell_type": "code",
   "execution_count": 77,
   "id": "38c717b4-ba7f-4684-b9a5-7154ec974066",
   "metadata": {},
   "outputs": [
    {
     "data": {
      "text/plain": [
       "[('climate', 470),\n",
       " ('change', 320),\n",
       " ('global', 195),\n",
       " ('warming', 177),\n",
       " ('retrieved', 134),\n",
       " ('pdf', 124),\n",
       " ('emissions', 99),\n",
       " ('carbon', 87),\n",
       " ('energy', 78),\n",
       " ('greenhouse', 76),\n",
       " ('report', 71),\n",
       " ('temperature', 64),\n",
       " ('may', 62),\n",
       " ('summary', 61),\n",
       " ('cid', 61),\n",
       " ('original', 58),\n",
       " ('impacts', 52),\n",
       " ('earth', 52),\n",
       " ('january', 51),\n",
       " ('surface', 50)]"
      ]
     },
     "execution_count": 77,
     "metadata": {},
     "output_type": "execute_result"
    }
   ],
   "source": [
    "wordfreq.most_common(20) #Top words   -- get the word frequency ( how many times is appearing in the text )"
   ]
  },
  {
   "cell_type": "code",
   "execution_count": 80,
   "id": "6b29e9e7-121b-4fbb-9504-67fc8a0903ae",
   "metadata": {},
   "outputs": [],
   "source": [
    "climate_words=(\" \").join(cilmatewords)"
   ]
  },
  {
   "cell_type": "code",
   "execution_count": null,
   "id": "3c13b9fa-57ec-4d68-9f37-a143b24b7f93",
   "metadata": {},
   "outputs": [],
   "source": [
    "!pip install wordcloud"
   ]
  },
  {
   "cell_type": "code",
   "execution_count": 85,
   "id": "03974ed0-28be-43bd-a1e4-9c54b2a52825",
   "metadata": {},
   "outputs": [],
   "source": [
    "from wordcloud import WordCloud\n",
    "\n",
    "wordcloud=WordCloud(width=1000,height=500,max_words=200,collocations=False,colormap=\"plasma\").generate(str(climate_words))"
   ]
  },
  {
   "cell_type": "code",
   "execution_count": 86,
   "id": "e2cf9e77-3760-4d65-abab-d30eab32a523",
   "metadata": {},
   "outputs": [
    {
     "data": {
      "image/png": "[encoded data removed]",
      "text/plain": [
       "<Figure size 640x480 with 1 Axes>"
      ]
     },
     "metadata": {},
     "output_type": "display_data"
    }
   ],
   "source": [
    "plt.imshow(wordcloud)\n",
    "plt.show()"
   ]
  },
  {
   "cell_type": "markdown",
   "id": "7d6bbfe1-fdc8-43a0-8b32-62c57ecdee7f",
   "metadata": {},
   "source": [
    "# Post preprocessing - Vectorization must be done\n",
    "\n",
    "# Vectoriation ins process of converting text to matrix of numbers.\n",
    "\n",
    "Two types of matrics are used\n",
    "\n",
    "# 1. Document Term Matrix /Term Frequency Inverse \n",
    "\n",
    "    Documents/Sentences in Rows and words/tokens in Columns\n",
    "    Doc1 - The car is driven on the road\n",
    "    Doc2 - The truck is driven on the highway\n",
    "\n",
    "    Post Preprocessubg\n",
    "    Doc1 - car , driven, road\n",
    "    Doc2 - truck, driven , highway\n",
    "\n",
    "    Document Term Matrix\n",
    "\n",
    "    token/words      - car  driven    road highway truck\n",
    "    Doc1             - 1      1        1     0       0\n",
    "    Doc2             - 0      1        0     1       1\n",
    "   \n",
    "   \n",
    "\n",
    "# 2. Document Frequency (TFIDF) Matrix\n",
    "\n",
    "\n"
   ]
  },
  {
   "cell_type": "code",
   "execution_count": 87,
   "id": "5522e9fb-cec7-434c-9d35-dd70af570e8b",
   "metadata": {},
   "outputs": [],
   "source": [
    "from sklearn.feature_extraction.text import CountVectorizer"
   ]
  },
  {
   "cell_type": "code",
   "execution_count": 88,
   "id": "b766560e-ca00-4840-b950-ebbd22621252",
   "metadata": {},
   "outputs": [],
   "source": [
    "DTM=CountVectorizer(max_features=20,stop_words=\"english\")"
   ]
  },
  {
   "cell_type": "code",
   "execution_count": 90,
   "id": "bf0d7f3f-698c-4c74-aa62-f78cf0f515e4",
   "metadata": {},
   "outputs": [],
   "source": [
    "X_DTM=DTM.fit_transform(cilmatewords)"
   ]
  },
  {
   "cell_type": "code",
   "execution_count": 91,
   "id": "052528bb-1639-4e4b-a7f7-6a094758811e",
   "metadata": {},
   "outputs": [
    {
     "data": {
      "text/html": [
       "<div>\n",
       "<style scoped>\n",
       "    .dataframe tbody tr th:only-of-type {\n",
       "        vertical-align: middle;\n",
       "    }\n",
       "\n",
       "    .dataframe tbody tr th {\n",
       "        vertical-align: top;\n",
       "    }\n",
       "\n",
       "    .dataframe thead th {\n",
       "        text-align: right;\n",
       "    }\n",
       "</style>\n",
       "<table border=\"1\" class=\"dataframe\">\n",
       "  <thead>\n",
       "    <tr style=\"text-align: right;\">\n",
       "      <th></th>\n",
       "      <th>climate</th>\n",
       "      <th>change</th>\n",
       "      <th>global</th>\n",
       "      <th>temperature</th>\n",
       "      <th>warming</th>\n",
       "      <th>greenhouse</th>\n",
       "      <th>surface</th>\n",
       "      <th>impacts</th>\n",
       "      <th>emissions</th>\n",
       "      <th>energy</th>\n",
       "      <th>carbon</th>\n",
       "      <th>earth</th>\n",
       "      <th>heat</th>\n",
       "      <th>report</th>\n",
       "      <th>retrieved</th>\n",
       "      <th>january</th>\n",
       "      <th>summary</th>\n",
       "      <th>cid</th>\n",
       "      <th>original</th>\n",
       "      <th>pdf</th>\n",
       "    </tr>\n",
       "  </thead>\n",
       "  <tbody>\n",
       "    <tr>\n",
       "      <th>0</th>\n",
       "      <td>0</td>\n",
       "      <td>0</td>\n",
       "      <td>0</td>\n",
       "      <td>1</td>\n",
       "      <td>0</td>\n",
       "      <td>0</td>\n",
       "      <td>0</td>\n",
       "      <td>0</td>\n",
       "      <td>0</td>\n",
       "      <td>0</td>\n",
       "      <td>0</td>\n",
       "      <td>0</td>\n",
       "      <td>0</td>\n",
       "      <td>0</td>\n",
       "      <td>0</td>\n",
       "      <td>0</td>\n",
       "      <td>0</td>\n",
       "      <td>0</td>\n",
       "      <td>0</td>\n",
       "      <td>0</td>\n",
       "    </tr>\n",
       "    <tr>\n",
       "      <th>1</th>\n",
       "      <td>0</td>\n",
       "      <td>1</td>\n",
       "      <td>0</td>\n",
       "      <td>0</td>\n",
       "      <td>0</td>\n",
       "      <td>0</td>\n",
       "      <td>0</td>\n",
       "      <td>0</td>\n",
       "      <td>0</td>\n",
       "      <td>0</td>\n",
       "      <td>0</td>\n",
       "      <td>0</td>\n",
       "      <td>0</td>\n",
       "      <td>0</td>\n",
       "      <td>0</td>\n",
       "      <td>0</td>\n",
       "      <td>0</td>\n",
       "      <td>0</td>\n",
       "      <td>0</td>\n",
       "      <td>0</td>\n",
       "    </tr>\n",
       "    <tr>\n",
       "      <th>2</th>\n",
       "      <td>0</td>\n",
       "      <td>0</td>\n",
       "      <td>0</td>\n",
       "      <td>0</td>\n",
       "      <td>0</td>\n",
       "      <td>0</td>\n",
       "      <td>0</td>\n",
       "      <td>0</td>\n",
       "      <td>0</td>\n",
       "      <td>0</td>\n",
       "      <td>0</td>\n",
       "      <td>0</td>\n",
       "      <td>0</td>\n",
       "      <td>0</td>\n",
       "      <td>0</td>\n",
       "      <td>0</td>\n",
       "      <td>0</td>\n",
       "      <td>0</td>\n",
       "      <td>0</td>\n",
       "      <td>0</td>\n",
       "    </tr>\n",
       "    <tr>\n",
       "      <th>3</th>\n",
       "      <td>0</td>\n",
       "      <td>0</td>\n",
       "      <td>0</td>\n",
       "      <td>0</td>\n",
       "      <td>0</td>\n",
       "      <td>0</td>\n",
       "      <td>0</td>\n",
       "      <td>0</td>\n",
       "      <td>0</td>\n",
       "      <td>0</td>\n",
       "      <td>0</td>\n",
       "      <td>0</td>\n",
       "      <td>0</td>\n",
       "      <td>0</td>\n",
       "      <td>0</td>\n",
       "      <td>0</td>\n",
       "      <td>0</td>\n",
       "      <td>0</td>\n",
       "      <td>0</td>\n",
       "      <td>0</td>\n",
       "    </tr>\n",
       "    <tr>\n",
       "      <th>4</th>\n",
       "      <td>0</td>\n",
       "      <td>0</td>\n",
       "      <td>0</td>\n",
       "      <td>0</td>\n",
       "      <td>0</td>\n",
       "      <td>0</td>\n",
       "      <td>0</td>\n",
       "      <td>0</td>\n",
       "      <td>0</td>\n",
       "      <td>0</td>\n",
       "      <td>0</td>\n",
       "      <td>0</td>\n",
       "      <td>0</td>\n",
       "      <td>0</td>\n",
       "      <td>0</td>\n",
       "      <td>0</td>\n",
       "      <td>0</td>\n",
       "      <td>0</td>\n",
       "      <td>0</td>\n",
       "      <td>0</td>\n",
       "    </tr>\n",
       "  </tbody>\n",
       "</table>\n",
       "</div>"
      ],
      "text/plain": [
       "   climate  change  global  temperature  warming  greenhouse  surface  \\\n",
       "0        0       0       0            1        0           0        0   \n",
       "1        0       1       0            0        0           0        0   \n",
       "2        0       0       0            0        0           0        0   \n",
       "3        0       0       0            0        0           0        0   \n",
       "4        0       0       0            0        0           0        0   \n",
       "\n",
       "   impacts  emissions  energy  carbon  earth  heat  report  retrieved  \\\n",
       "0        0          0       0       0      0     0       0          0   \n",
       "1        0          0       0       0      0     0       0          0   \n",
       "2        0          0       0       0      0     0       0          0   \n",
       "3        0          0       0       0      0     0       0          0   \n",
       "4        0          0       0       0      0     0       0          0   \n",
       "\n",
       "   january  summary  cid  original  pdf  \n",
       "0        0        0    0         0    0  \n",
       "1        0        0    0         0    0  \n",
       "2        0        0    0         0    0  \n",
       "3        0        0    0         0    0  \n",
       "4        0        0    0         0    0  "
      ]
     },
     "execution_count": 91,
     "metadata": {},
     "output_type": "execute_result"
    }
   ],
   "source": [
    "pd.DataFrame(X_DTM.toarray(),columns=DTM.vocabulary_).head()"
   ]
  },
  {
   "cell_type": "code",
   "execution_count": 92,
   "id": "e4038c4f-b507-4d5e-abe8-581c348920c1",
   "metadata": {},
   "outputs": [
    {
     "data": {
      "text/html": [
       "<div>\n",
       "<style scoped>\n",
       "    .dataframe tbody tr th:only-of-type {\n",
       "        vertical-align: middle;\n",
       "    }\n",
       "\n",
       "    .dataframe tbody tr th {\n",
       "        vertical-align: top;\n",
       "    }\n",
       "\n",
       "    .dataframe thead th {\n",
       "        text-align: right;\n",
       "    }\n",
       "</style>\n",
       "<table border=\"1\" class=\"dataframe\">\n",
       "  <thead>\n",
       "    <tr style=\"text-align: right;\">\n",
       "      <th></th>\n",
       "      <th>sentences</th>\n",
       "      <th>sentiment</th>\n",
       "    </tr>\n",
       "  </thead>\n",
       "  <tbody>\n",
       "    <tr>\n",
       "      <th>0</th>\n",
       "      <td>Climate change - WikipediaJump to contentMain ...</td>\n",
       "      <td>Positive</td>\n",
       "    </tr>\n",
       "    <tr>\n",
       "      <th>1</th>\n",
       "      <td>Temperatures prior to present-day global warmi...</td>\n",
       "      <td>Neutral</td>\n",
       "    </tr>\n",
       "    <tr>\n",
       "      <th>2</th>\n",
       "      <td>Warming since the Industrial Revolution .</td>\n",
       "      <td>Neutral</td>\n",
       "    </tr>\n",
       "    <tr>\n",
       "      <th>3</th>\n",
       "      <td>.</td>\n",
       "      <td>Neutral</td>\n",
       "    </tr>\n",
       "    <tr>\n",
       "      <th>4</th>\n",
       "      <td>Differences by region .</td>\n",
       "      <td>Neutral</td>\n",
       "    </tr>\n",
       "  </tbody>\n",
       "</table>\n",
       "</div>"
      ],
      "text/plain": [
       "                                           sentences sentiment\n",
       "0  Climate change - WikipediaJump to contentMain ...  Positive\n",
       "1  Temperatures prior to present-day global warmi...   Neutral\n",
       "2          Warming since the Industrial Revolution .   Neutral\n",
       "3                                                  .   Neutral\n",
       "4                            Differences by region .   Neutral"
      ]
     },
     "execution_count": 92,
     "metadata": {},
     "output_type": "execute_result"
    }
   ],
   "source": [
    "sentences.head()"
   ]
  },
  {
   "cell_type": "code",
   "execution_count": 95,
   "id": "162599fb-dfa8-4b13-8fc8-03d3489ed84f",
   "metadata": {},
   "outputs": [],
   "source": [
    "X_DTM_sentence=DTM.fit_transform(sentences['sentences'])"
   ]
  },
  {
   "cell_type": "code",
   "execution_count": 96,
   "id": "7a77aeb4-5570-47da-b581-e54594909b5a",
   "metadata": {},
   "outputs": [
    {
     "data": {
      "text/html": [
       "<div>\n",
       "<style scoped>\n",
       "    .dataframe tbody tr th:only-of-type {\n",
       "        vertical-align: middle;\n",
       "    }\n",
       "\n",
       "    .dataframe tbody tr th {\n",
       "        vertical-align: top;\n",
       "    }\n",
       "\n",
       "    .dataframe thead th {\n",
       "        text-align: right;\n",
       "    }\n",
       "</style>\n",
       "<table border=\"1\" class=\"dataframe\">\n",
       "  <thead>\n",
       "    <tr style=\"text-align: right;\">\n",
       "      <th></th>\n",
       "      <th>climate</th>\n",
       "      <th>change</th>\n",
       "      <th>global</th>\n",
       "      <th>warming</th>\n",
       "      <th>greenhouse</th>\n",
       "      <th>emissions</th>\n",
       "      <th>energy</th>\n",
       "      <th>carbon</th>\n",
       "      <th>ipcc</th>\n",
       "      <th>report</th>\n",
       "      <th>science</th>\n",
       "      <th>retrieved</th>\n",
       "      <th>ar</th>\n",
       "      <th>wg</th>\n",
       "      <th>et</th>\n",
       "      <th>al</th>\n",
       "      <th>bibcode</th>\n",
       "      <th>doi</th>\n",
       "      <th>pp</th>\n",
       "      <th>pdf</th>\n",
       "    </tr>\n",
       "  </thead>\n",
       "  <tbody>\n",
       "    <tr>\n",
       "      <th>0</th>\n",
       "      <td>0</td>\n",
       "      <td>0</td>\n",
       "      <td>0</td>\n",
       "      <td>0</td>\n",
       "      <td>1</td>\n",
       "      <td>1</td>\n",
       "      <td>0</td>\n",
       "      <td>0</td>\n",
       "      <td>0</td>\n",
       "      <td>0</td>\n",
       "      <td>2</td>\n",
       "      <td>0</td>\n",
       "      <td>0</td>\n",
       "      <td>0</td>\n",
       "      <td>0</td>\n",
       "      <td>0</td>\n",
       "      <td>0</td>\n",
       "      <td>0</td>\n",
       "      <td>0</td>\n",
       "      <td>0</td>\n",
       "    </tr>\n",
       "    <tr>\n",
       "      <th>1</th>\n",
       "      <td>0</td>\n",
       "      <td>0</td>\n",
       "      <td>0</td>\n",
       "      <td>0</td>\n",
       "      <td>0</td>\n",
       "      <td>0</td>\n",
       "      <td>0</td>\n",
       "      <td>0</td>\n",
       "      <td>0</td>\n",
       "      <td>0</td>\n",
       "      <td>1</td>\n",
       "      <td>0</td>\n",
       "      <td>0</td>\n",
       "      <td>0</td>\n",
       "      <td>0</td>\n",
       "      <td>0</td>\n",
       "      <td>0</td>\n",
       "      <td>0</td>\n",
       "      <td>1</td>\n",
       "      <td>0</td>\n",
       "    </tr>\n",
       "    <tr>\n",
       "      <th>2</th>\n",
       "      <td>0</td>\n",
       "      <td>0</td>\n",
       "      <td>0</td>\n",
       "      <td>0</td>\n",
       "      <td>0</td>\n",
       "      <td>0</td>\n",
       "      <td>0</td>\n",
       "      <td>0</td>\n",
       "      <td>0</td>\n",
       "      <td>0</td>\n",
       "      <td>0</td>\n",
       "      <td>0</td>\n",
       "      <td>0</td>\n",
       "      <td>0</td>\n",
       "      <td>0</td>\n",
       "      <td>0</td>\n",
       "      <td>0</td>\n",
       "      <td>0</td>\n",
       "      <td>1</td>\n",
       "      <td>0</td>\n",
       "    </tr>\n",
       "    <tr>\n",
       "      <th>3</th>\n",
       "      <td>0</td>\n",
       "      <td>0</td>\n",
       "      <td>0</td>\n",
       "      <td>0</td>\n",
       "      <td>0</td>\n",
       "      <td>0</td>\n",
       "      <td>0</td>\n",
       "      <td>0</td>\n",
       "      <td>0</td>\n",
       "      <td>0</td>\n",
       "      <td>0</td>\n",
       "      <td>0</td>\n",
       "      <td>0</td>\n",
       "      <td>0</td>\n",
       "      <td>0</td>\n",
       "      <td>0</td>\n",
       "      <td>0</td>\n",
       "      <td>0</td>\n",
       "      <td>0</td>\n",
       "      <td>0</td>\n",
       "    </tr>\n",
       "    <tr>\n",
       "      <th>4</th>\n",
       "      <td>0</td>\n",
       "      <td>0</td>\n",
       "      <td>0</td>\n",
       "      <td>0</td>\n",
       "      <td>0</td>\n",
       "      <td>0</td>\n",
       "      <td>0</td>\n",
       "      <td>0</td>\n",
       "      <td>0</td>\n",
       "      <td>0</td>\n",
       "      <td>0</td>\n",
       "      <td>0</td>\n",
       "      <td>0</td>\n",
       "      <td>0</td>\n",
       "      <td>0</td>\n",
       "      <td>0</td>\n",
       "      <td>0</td>\n",
       "      <td>0</td>\n",
       "      <td>0</td>\n",
       "      <td>0</td>\n",
       "    </tr>\n",
       "  </tbody>\n",
       "</table>\n",
       "</div>"
      ],
      "text/plain": [
       "   climate  change  global  warming  greenhouse  emissions  energy  carbon  \\\n",
       "0        0       0       0        0           1          1       0       0   \n",
       "1        0       0       0        0           0          0       0       0   \n",
       "2        0       0       0        0           0          0       0       0   \n",
       "3        0       0       0        0           0          0       0       0   \n",
       "4        0       0       0        0           0          0       0       0   \n",
       "\n",
       "   ipcc  report  science  retrieved  ar  wg  et  al  bibcode  doi  pp  pdf  \n",
       "0     0       0        2          0   0   0   0   0        0    0   0    0  \n",
       "1     0       0        1          0   0   0   0   0        0    0   1    0  \n",
       "2     0       0        0          0   0   0   0   0        0    0   1    0  \n",
       "3     0       0        0          0   0   0   0   0        0    0   0    0  \n",
       "4     0       0        0          0   0   0   0   0        0    0   0    0  "
      ]
     },
     "execution_count": 96,
     "metadata": {},
     "output_type": "execute_result"
    }
   ],
   "source": [
    "pd.DataFrame(X_DTM_sentence.toarray(),columns=DTM.vocabulary_).head()  # it has single words in the data frame"
   ]
  },
  {
   "cell_type": "code",
   "execution_count": 98,
   "id": "e6a7922f-74ca-43ec-bfc4-aedae989787b",
   "metadata": {},
   "outputs": [
    {
     "data": {
      "text/plain": [
       "(2314, 20)"
      ]
     },
     "execution_count": 98,
     "metadata": {},
     "output_type": "execute_result"
    }
   ],
   "source": [
    "X_DTM_sentence.shape # will give the tuple indicating the matrix size"
   ]
  },
  {
   "cell_type": "code",
   "execution_count": 100,
   "id": "54c4a07b-14c2-481a-9eba-4d7c3c423cb1",
   "metadata": {},
   "outputs": [],
   "source": [
    "sentences['sentences']=sentences['sentences'].str.lower()"
   ]
  },
  {
   "cell_type": "code",
   "execution_count": 101,
   "id": "0951b471-d349-4370-953b-4d5e0808d32f",
   "metadata": {},
   "outputs": [],
   "source": [
    "DTM_New=CountVectorizer(max_features=50, stop_words=\"english\",analyzer=\"word\",ngram_range=(2,2)) # combine two words so see the output of the data frame below"
   ]
  },
  {
   "cell_type": "code",
   "execution_count": 102,
   "id": "787f271f-0450-456b-be86-45631734a758",
   "metadata": {},
   "outputs": [],
   "source": [
    "X_DTM_sentence=DTM_New.fit_transform(sentences['sentences'])"
   ]
  },
  {
   "cell_type": "code",
   "execution_count": 103,
   "id": "d75e2544-c9f9-4735-816a-338fe02cb889",
   "metadata": {},
   "outputs": [
    {
     "data": {
      "text/html": [
       "<div>\n",
       "<style scoped>\n",
       "    .dataframe tbody tr th:only-of-type {\n",
       "        vertical-align: middle;\n",
       "    }\n",
       "\n",
       "    .dataframe tbody tr th {\n",
       "        vertical-align: top;\n",
       "    }\n",
       "\n",
       "    .dataframe thead th {\n",
       "        text-align: right;\n",
       "    }\n",
       "</style>\n",
       "<table border=\"1\" class=\"dataframe\">\n",
       "  <thead>\n",
       "    <tr style=\"text-align: right;\">\n",
       "      <th></th>\n",
       "      <th>academy sciences</th>\n",
       "      <th>ar syr</th>\n",
       "      <th>ar wg</th>\n",
       "      <th>archivedfrom original</th>\n",
       "      <th>cambridge university</th>\n",
       "      <th>carbon brief</th>\n",
       "      <th>carbon dioxide</th>\n",
       "      <th>ch pp</th>\n",
       "      <th>change impacts</th>\n",
       "      <th>climate change</th>\n",
       "      <th>...</th>\n",
       "      <th>special report</th>\n",
       "      <th>sr ch</th>\n",
       "      <th>summary policymakers</th>\n",
       "      <th>technical summary</th>\n",
       "      <th>united nations</th>\n",
       "      <th>united states</th>\n",
       "      <th>university press</th>\n",
       "      <th>wg ch</th>\n",
       "      <th>wg technical</th>\n",
       "      <th>working group</th>\n",
       "    </tr>\n",
       "  </thead>\n",
       "  <tbody>\n",
       "    <tr>\n",
       "      <th>0</th>\n",
       "      <td>0</td>\n",
       "      <td>0</td>\n",
       "      <td>0</td>\n",
       "      <td>0</td>\n",
       "      <td>0</td>\n",
       "      <td>0</td>\n",
       "      <td>0</td>\n",
       "      <td>0</td>\n",
       "      <td>0</td>\n",
       "      <td>1</td>\n",
       "      <td>...</td>\n",
       "      <td>0</td>\n",
       "      <td>0</td>\n",
       "      <td>0</td>\n",
       "      <td>0</td>\n",
       "      <td>0</td>\n",
       "      <td>0</td>\n",
       "      <td>0</td>\n",
       "      <td>0</td>\n",
       "      <td>0</td>\n",
       "      <td>0</td>\n",
       "    </tr>\n",
       "    <tr>\n",
       "      <th>1</th>\n",
       "      <td>0</td>\n",
       "      <td>0</td>\n",
       "      <td>0</td>\n",
       "      <td>0</td>\n",
       "      <td>0</td>\n",
       "      <td>0</td>\n",
       "      <td>0</td>\n",
       "      <td>0</td>\n",
       "      <td>0</td>\n",
       "      <td>0</td>\n",
       "      <td>...</td>\n",
       "      <td>0</td>\n",
       "      <td>0</td>\n",
       "      <td>0</td>\n",
       "      <td>0</td>\n",
       "      <td>0</td>\n",
       "      <td>0</td>\n",
       "      <td>0</td>\n",
       "      <td>0</td>\n",
       "      <td>0</td>\n",
       "      <td>0</td>\n",
       "    </tr>\n",
       "    <tr>\n",
       "      <th>2</th>\n",
       "      <td>0</td>\n",
       "      <td>0</td>\n",
       "      <td>0</td>\n",
       "      <td>0</td>\n",
       "      <td>0</td>\n",
       "      <td>0</td>\n",
       "      <td>0</td>\n",
       "      <td>0</td>\n",
       "      <td>0</td>\n",
       "      <td>0</td>\n",
       "      <td>...</td>\n",
       "      <td>0</td>\n",
       "      <td>0</td>\n",
       "      <td>0</td>\n",
       "      <td>0</td>\n",
       "      <td>0</td>\n",
       "      <td>0</td>\n",
       "      <td>0</td>\n",
       "      <td>0</td>\n",
       "      <td>0</td>\n",
       "      <td>0</td>\n",
       "    </tr>\n",
       "    <tr>\n",
       "      <th>3</th>\n",
       "      <td>0</td>\n",
       "      <td>0</td>\n",
       "      <td>0</td>\n",
       "      <td>0</td>\n",
       "      <td>0</td>\n",
       "      <td>0</td>\n",
       "      <td>0</td>\n",
       "      <td>0</td>\n",
       "      <td>0</td>\n",
       "      <td>0</td>\n",
       "      <td>...</td>\n",
       "      <td>0</td>\n",
       "      <td>0</td>\n",
       "      <td>0</td>\n",
       "      <td>0</td>\n",
       "      <td>0</td>\n",
       "      <td>0</td>\n",
       "      <td>0</td>\n",
       "      <td>0</td>\n",
       "      <td>0</td>\n",
       "      <td>0</td>\n",
       "    </tr>\n",
       "    <tr>\n",
       "      <th>4</th>\n",
       "      <td>0</td>\n",
       "      <td>0</td>\n",
       "      <td>0</td>\n",
       "      <td>0</td>\n",
       "      <td>0</td>\n",
       "      <td>0</td>\n",
       "      <td>0</td>\n",
       "      <td>0</td>\n",
       "      <td>0</td>\n",
       "      <td>0</td>\n",
       "      <td>...</td>\n",
       "      <td>0</td>\n",
       "      <td>0</td>\n",
       "      <td>0</td>\n",
       "      <td>0</td>\n",
       "      <td>0</td>\n",
       "      <td>0</td>\n",
       "      <td>0</td>\n",
       "      <td>0</td>\n",
       "      <td>0</td>\n",
       "      <td>0</td>\n",
       "    </tr>\n",
       "  </tbody>\n",
       "</table>\n",
       "<p>5 rows × 50 columns</p>\n",
       "</div>"
      ],
      "text/plain": [
       "   academy sciences  ar syr  ar wg  archivedfrom original  \\\n",
       "0                 0       0      0                      0   \n",
       "1                 0       0      0                      0   \n",
       "2                 0       0      0                      0   \n",
       "3                 0       0      0                      0   \n",
       "4                 0       0      0                      0   \n",
       "\n",
       "   cambridge university  carbon brief  carbon dioxide  ch pp  change impacts  \\\n",
       "0                     0             0               0      0               0   \n",
       "1                     0             0               0      0               0   \n",
       "2                     0             0               0      0               0   \n",
       "3                     0             0               0      0               0   \n",
       "4                     0             0               0      0               0   \n",
       "\n",
       "   climate change  ...  special report  sr ch  summary policymakers  \\\n",
       "0               1  ...               0      0                     0   \n",
       "1               0  ...               0      0                     0   \n",
       "2               0  ...               0      0                     0   \n",
       "3               0  ...               0      0                     0   \n",
       "4               0  ...               0      0                     0   \n",
       "\n",
       "   technical summary  united nations  united states  university press  wg ch  \\\n",
       "0                  0               0              0                 0      0   \n",
       "1                  0               0              0                 0      0   \n",
       "2                  0               0              0                 0      0   \n",
       "3                  0               0              0                 0      0   \n",
       "4                  0               0              0                 0      0   \n",
       "\n",
       "   wg technical  working group  \n",
       "0             0              0  \n",
       "1             0              0  \n",
       "2             0              0  \n",
       "3             0              0  \n",
       "4             0              0  \n",
       "\n",
       "[5 rows x 50 columns]"
      ]
     },
     "execution_count": 103,
     "metadata": {},
     "output_type": "execute_result"
    }
   ],
   "source": [
    "pd.DataFrame(X_DTM_sentence.toarray(),columns=DTM_New.get_feature_names_out()).head()"
   ]
  },
  {
   "cell_type": "code",
   "execution_count": 104,
   "id": "510c2078-1a8a-4d52-96a2-fe942f61110d",
   "metadata": {},
   "outputs": [
    {
     "data": {
      "text/plain": [
       "(2314, 50)"
      ]
     },
     "execution_count": 104,
     "metadata": {},
     "output_type": "execute_result"
    }
   ],
   "source": [
    "X_DTM_sentence.shape"
   ]
  },
  {
   "cell_type": "markdown",
   "id": "23bae4b7-d7a2-4895-8f92-97f2421d3b3b",
   "metadata": {},
   "source": [
    "# 2  Term Frequency Inverse Document Frequency Matrix (TFIDF Matrix)\n",
    "\n",
    "# TFIDF term frequency * Log(num of documents/ num of documents containing words )\n",
    "\n",
    "\n",
    "   Documents/Sentences in Rows and words/tokens in Columns\n",
    "    Doc1 - The car is driven on the road\n",
    "    Doc2 - The truck is driven on the highway\n",
    "\n",
    "    Post Preprocessubg\n",
    "    Doc1 - car , driven, road\n",
    "    Doc2 - truck, driven , highway\n",
    "\n",
    "    Document Term Matrix\n",
    "\n",
    "    token/words      - car  driven    road highway truck\n",
    "    Doc1             - 1      1        1     0       0\n",
    "    Doc2             - 0      1        0     1       1\n",
    "   \n",
    "   \n",
    "TFIDF for car\n",
    "\n",
    "TF of car = 1/3  = 0.33\n",
    "IDF of car = log(2/1) = log(2) = 0.6931\n",
    "TFIDF = 0.33 * 0.6931 = 0.2310\n",
    "\n",
    "\n",
    "TFIDF for Driven\n",
    "\n",
    "TF of Driven = 1/3  *  1/3 = 0.1089\n",
    "IDF of Driven = log(2/2) = log(1) = 0\n",
    "TFIDF of driven  = 0.1089*0=0\n"
   ]
  },
  {
   "cell_type": "code",
   "execution_count": 120,
   "id": "f3a33dac-6d5b-45fc-ba1f-96e47ec45620",
   "metadata": {},
   "outputs": [],
   "source": [
    "from sklearn.feature_extraction.text import TfidfVectorizer"
   ]
  },
  {
   "cell_type": "code",
   "execution_count": 121,
   "id": "fbcc6d1f-2465-43f4-8c28-d2d68df183fb",
   "metadata": {},
   "outputs": [],
   "source": [
    "tfidf=TfidfVectorizer(max_features=20,stop_words=\"english\",ngram_range=(2,2))"
   ]
  },
  {
   "cell_type": "code",
   "execution_count": 122,
   "id": "67846dd5-eb50-400e-8073-4c560c4f87ef",
   "metadata": {},
   "outputs": [],
   "source": [
    "X_tfdif=tfidf.fit_transform(sentences['sentences'])"
   ]
  },
  {
   "cell_type": "code",
   "execution_count": 123,
   "id": "13c3ce83-1cc2-4d3c-9643-dc52f7617055",
   "metadata": {},
   "outputs": [
    {
     "data": {
      "text/html": [
       "<div>\n",
       "<style scoped>\n",
       "    .dataframe tbody tr th:only-of-type {\n",
       "        vertical-align: middle;\n",
       "    }\n",
       "\n",
       "    .dataframe tbody tr th {\n",
       "        vertical-align: top;\n",
       "    }\n",
       "\n",
       "    .dataframe thead th {\n",
       "        text-align: right;\n",
       "    }\n",
       "</style>\n",
       "<table border=\"1\" class=\"dataframe\">\n",
       "  <thead>\n",
       "    <tr style=\"text-align: right;\">\n",
       "      <th></th>\n",
       "      <th>climate change</th>\n",
       "      <th>global warming</th>\n",
       "      <th>greenhouse gases</th>\n",
       "      <th>carbon dioxide</th>\n",
       "      <th>greenhouse gas</th>\n",
       "      <th>sea level</th>\n",
       "      <th>united nations</th>\n",
       "      <th>panel climate</th>\n",
       "      <th>ipcc ar</th>\n",
       "      <th>ar wg</th>\n",
       "      <th>summary policymakers</th>\n",
       "      <th>et al</th>\n",
       "      <th>issn cid</th>\n",
       "      <th>wg ch</th>\n",
       "      <th>archivedfrom original</th>\n",
       "      <th>ipcc sr</th>\n",
       "      <th>sr ch</th>\n",
       "      <th>pmc pmid</th>\n",
       "      <th>carbon brief</th>\n",
       "      <th>pdf ipcc</th>\n",
       "    </tr>\n",
       "  </thead>\n",
       "  <tbody>\n",
       "    <tr>\n",
       "      <th>0</th>\n",
       "      <td>0.0</td>\n",
       "      <td>0.0</td>\n",
       "      <td>0.0</td>\n",
       "      <td>0.0</td>\n",
       "      <td>1.0</td>\n",
       "      <td>0.0</td>\n",
       "      <td>0.0</td>\n",
       "      <td>0.0</td>\n",
       "      <td>0.0</td>\n",
       "      <td>0.0</td>\n",
       "      <td>0.0</td>\n",
       "      <td>0.0</td>\n",
       "      <td>0.0</td>\n",
       "      <td>0.0</td>\n",
       "      <td>0.0</td>\n",
       "      <td>0.0</td>\n",
       "      <td>0.0</td>\n",
       "      <td>0.0</td>\n",
       "      <td>0.0</td>\n",
       "      <td>0.0</td>\n",
       "    </tr>\n",
       "    <tr>\n",
       "      <th>1</th>\n",
       "      <td>0.0</td>\n",
       "      <td>0.0</td>\n",
       "      <td>0.0</td>\n",
       "      <td>0.0</td>\n",
       "      <td>0.0</td>\n",
       "      <td>0.0</td>\n",
       "      <td>1.0</td>\n",
       "      <td>0.0</td>\n",
       "      <td>0.0</td>\n",
       "      <td>0.0</td>\n",
       "      <td>0.0</td>\n",
       "      <td>0.0</td>\n",
       "      <td>0.0</td>\n",
       "      <td>0.0</td>\n",
       "      <td>0.0</td>\n",
       "      <td>0.0</td>\n",
       "      <td>0.0</td>\n",
       "      <td>0.0</td>\n",
       "      <td>0.0</td>\n",
       "      <td>0.0</td>\n",
       "    </tr>\n",
       "    <tr>\n",
       "      <th>2</th>\n",
       "      <td>0.0</td>\n",
       "      <td>0.0</td>\n",
       "      <td>0.0</td>\n",
       "      <td>0.0</td>\n",
       "      <td>0.0</td>\n",
       "      <td>0.0</td>\n",
       "      <td>0.0</td>\n",
       "      <td>0.0</td>\n",
       "      <td>0.0</td>\n",
       "      <td>0.0</td>\n",
       "      <td>0.0</td>\n",
       "      <td>0.0</td>\n",
       "      <td>0.0</td>\n",
       "      <td>0.0</td>\n",
       "      <td>0.0</td>\n",
       "      <td>0.0</td>\n",
       "      <td>0.0</td>\n",
       "      <td>0.0</td>\n",
       "      <td>0.0</td>\n",
       "      <td>0.0</td>\n",
       "    </tr>\n",
       "    <tr>\n",
       "      <th>3</th>\n",
       "      <td>0.0</td>\n",
       "      <td>0.0</td>\n",
       "      <td>0.0</td>\n",
       "      <td>0.0</td>\n",
       "      <td>0.0</td>\n",
       "      <td>0.0</td>\n",
       "      <td>0.0</td>\n",
       "      <td>0.0</td>\n",
       "      <td>0.0</td>\n",
       "      <td>0.0</td>\n",
       "      <td>0.0</td>\n",
       "      <td>0.0</td>\n",
       "      <td>0.0</td>\n",
       "      <td>0.0</td>\n",
       "      <td>0.0</td>\n",
       "      <td>0.0</td>\n",
       "      <td>0.0</td>\n",
       "      <td>0.0</td>\n",
       "      <td>0.0</td>\n",
       "      <td>0.0</td>\n",
       "    </tr>\n",
       "    <tr>\n",
       "      <th>4</th>\n",
       "      <td>0.0</td>\n",
       "      <td>0.0</td>\n",
       "      <td>0.0</td>\n",
       "      <td>0.0</td>\n",
       "      <td>0.0</td>\n",
       "      <td>0.0</td>\n",
       "      <td>0.0</td>\n",
       "      <td>0.0</td>\n",
       "      <td>0.0</td>\n",
       "      <td>0.0</td>\n",
       "      <td>0.0</td>\n",
       "      <td>0.0</td>\n",
       "      <td>0.0</td>\n",
       "      <td>0.0</td>\n",
       "      <td>0.0</td>\n",
       "      <td>0.0</td>\n",
       "      <td>0.0</td>\n",
       "      <td>0.0</td>\n",
       "      <td>0.0</td>\n",
       "      <td>0.0</td>\n",
       "    </tr>\n",
       "  </tbody>\n",
       "</table>\n",
       "</div>"
      ],
      "text/plain": [
       "   climate change  global warming  greenhouse gases  carbon dioxide  \\\n",
       "0             0.0             0.0               0.0             0.0   \n",
       "1             0.0             0.0               0.0             0.0   \n",
       "2             0.0             0.0               0.0             0.0   \n",
       "3             0.0             0.0               0.0             0.0   \n",
       "4             0.0             0.0               0.0             0.0   \n",
       "\n",
       "   greenhouse gas  sea level  united nations  panel climate  ipcc ar  ar wg  \\\n",
       "0             1.0        0.0             0.0            0.0      0.0    0.0   \n",
       "1             0.0        0.0             1.0            0.0      0.0    0.0   \n",
       "2             0.0        0.0             0.0            0.0      0.0    0.0   \n",
       "3             0.0        0.0             0.0            0.0      0.0    0.0   \n",
       "4             0.0        0.0             0.0            0.0      0.0    0.0   \n",
       "\n",
       "   summary policymakers  et al  issn cid  wg ch  archivedfrom original  \\\n",
       "0                   0.0    0.0       0.0    0.0                    0.0   \n",
       "1                   0.0    0.0       0.0    0.0                    0.0   \n",
       "2                   0.0    0.0       0.0    0.0                    0.0   \n",
       "3                   0.0    0.0       0.0    0.0                    0.0   \n",
       "4                   0.0    0.0       0.0    0.0                    0.0   \n",
       "\n",
       "   ipcc sr  sr ch  pmc pmid  carbon brief  pdf ipcc  \n",
       "0      0.0    0.0       0.0           0.0       0.0  \n",
       "1      0.0    0.0       0.0           0.0       0.0  \n",
       "2      0.0    0.0       0.0           0.0       0.0  \n",
       "3      0.0    0.0       0.0           0.0       0.0  \n",
       "4      0.0    0.0       0.0           0.0       0.0  "
      ]
     },
     "execution_count": 123,
     "metadata": {},
     "output_type": "execute_result"
    }
   ],
   "source": [
    "pd.DataFrame(X_tfdif.toarray(),columns=tfidf.vocabulary_).head()"
   ]
  },
  {
   "cell_type": "code",
   "execution_count": 113,
   "id": "285ccc15-e2d1-4ded-8f43-3cd39f9b90bc",
   "metadata": {},
   "outputs": [
    {
     "data": {
      "text/plain": [
       "(2314, 20)"
      ]
     },
     "execution_count": 113,
     "metadata": {},
     "output_type": "execute_result"
    }
   ],
   "source": [
    "X_tfdif.shape"
   ]
  },
  {
   "cell_type": "code",
   "execution_count": 184,
   "id": "5c72076a-b69d-4a9f-a71c-1d97267d6277",
   "metadata": {},
   "outputs": [],
   "source": [
    "eng_stop_words=list(stopwords.words(\"english\"))\n",
    "eng_stop_words.extend(\"ar wg et al sr ch scid issn ipcc sr pmid cid pdf\".split())\n",
    "eng_stop_words.extend(\"january february march april may june july august september october november december\".split())"
   ]
  },
  {
   "cell_type": "code",
   "execution_count": 185,
   "id": "cf0d9c38-f3f3-4d9c-b401-065ae7c5f6ee",
   "metadata": {},
   "outputs": [],
   "source": [
    "tfidf_new=TfidfVectorizer(max_features=20,stop_words=list(eng_stop_words),ngram_range=(2,2))"
   ]
  },
  {
   "cell_type": "code",
   "execution_count": 186,
   "id": "12b14cf7-19e2-4f16-b72d-8d7b661b200f",
   "metadata": {},
   "outputs": [],
   "source": [
    "X_tfdif_new=tfidf_new.fit_transform(sentences['sentences'])"
   ]
  },
  {
   "cell_type": "code",
   "execution_count": 187,
   "id": "4e7572c4-49ec-4260-87b0-1bc1f7c77766",
   "metadata": {},
   "outputs": [
    {
     "data": {
      "text/html": [
       "<div>\n",
       "<style scoped>\n",
       "    .dataframe tbody tr th:only-of-type {\n",
       "        vertical-align: middle;\n",
       "    }\n",
       "\n",
       "    .dataframe tbody tr th {\n",
       "        vertical-align: top;\n",
       "    }\n",
       "\n",
       "    .dataframe thead th {\n",
       "        text-align: right;\n",
       "    }\n",
       "</style>\n",
       "<table border=\"1\" class=\"dataframe\">\n",
       "  <thead>\n",
       "    <tr style=\"text-align: right;\">\n",
       "      <th></th>\n",
       "      <th>climate change</th>\n",
       "      <th>global warming</th>\n",
       "      <th>greenhouse gases</th>\n",
       "      <th>carbon dioxide</th>\n",
       "      <th>fossil fuel</th>\n",
       "      <th>level rise</th>\n",
       "      <th>greenhouse gas</th>\n",
       "      <th>gas emissions</th>\n",
       "      <th>sea level</th>\n",
       "      <th>united nations</th>\n",
       "      <th>panel climate</th>\n",
       "      <th>summary policymakers</th>\n",
       "      <th>research letters</th>\n",
       "      <th>technical summary</th>\n",
       "      <th>high confidence</th>\n",
       "      <th>archivedfrom original</th>\n",
       "      <th>intergovernmental panel</th>\n",
       "      <th>cambridge university</th>\n",
       "      <th>university press</th>\n",
       "      <th>carbon brief</th>\n",
       "    </tr>\n",
       "  </thead>\n",
       "  <tbody>\n",
       "    <tr>\n",
       "      <th>0</th>\n",
       "      <td>0.0</td>\n",
       "      <td>0.0</td>\n",
       "      <td>0.0</td>\n",
       "      <td>0.0</td>\n",
       "      <td>1.0</td>\n",
       "      <td>0.0</td>\n",
       "      <td>0.0</td>\n",
       "      <td>0.0</td>\n",
       "      <td>0.0</td>\n",
       "      <td>0.0</td>\n",
       "      <td>0.0</td>\n",
       "      <td>0.0</td>\n",
       "      <td>0.0</td>\n",
       "      <td>0.0</td>\n",
       "      <td>0.0</td>\n",
       "      <td>0.0</td>\n",
       "      <td>0.0</td>\n",
       "      <td>0.0</td>\n",
       "      <td>0.0</td>\n",
       "      <td>0.0</td>\n",
       "    </tr>\n",
       "    <tr>\n",
       "      <th>1</th>\n",
       "      <td>0.0</td>\n",
       "      <td>0.0</td>\n",
       "      <td>0.0</td>\n",
       "      <td>0.0</td>\n",
       "      <td>0.0</td>\n",
       "      <td>0.0</td>\n",
       "      <td>0.0</td>\n",
       "      <td>1.0</td>\n",
       "      <td>0.0</td>\n",
       "      <td>0.0</td>\n",
       "      <td>0.0</td>\n",
       "      <td>0.0</td>\n",
       "      <td>0.0</td>\n",
       "      <td>0.0</td>\n",
       "      <td>0.0</td>\n",
       "      <td>0.0</td>\n",
       "      <td>0.0</td>\n",
       "      <td>0.0</td>\n",
       "      <td>0.0</td>\n",
       "      <td>0.0</td>\n",
       "    </tr>\n",
       "    <tr>\n",
       "      <th>2</th>\n",
       "      <td>0.0</td>\n",
       "      <td>0.0</td>\n",
       "      <td>0.0</td>\n",
       "      <td>0.0</td>\n",
       "      <td>0.0</td>\n",
       "      <td>0.0</td>\n",
       "      <td>0.0</td>\n",
       "      <td>0.0</td>\n",
       "      <td>0.0</td>\n",
       "      <td>0.0</td>\n",
       "      <td>0.0</td>\n",
       "      <td>0.0</td>\n",
       "      <td>0.0</td>\n",
       "      <td>0.0</td>\n",
       "      <td>0.0</td>\n",
       "      <td>0.0</td>\n",
       "      <td>0.0</td>\n",
       "      <td>0.0</td>\n",
       "      <td>0.0</td>\n",
       "      <td>0.0</td>\n",
       "    </tr>\n",
       "    <tr>\n",
       "      <th>3</th>\n",
       "      <td>0.0</td>\n",
       "      <td>0.0</td>\n",
       "      <td>0.0</td>\n",
       "      <td>0.0</td>\n",
       "      <td>0.0</td>\n",
       "      <td>0.0</td>\n",
       "      <td>0.0</td>\n",
       "      <td>0.0</td>\n",
       "      <td>0.0</td>\n",
       "      <td>0.0</td>\n",
       "      <td>0.0</td>\n",
       "      <td>0.0</td>\n",
       "      <td>0.0</td>\n",
       "      <td>0.0</td>\n",
       "      <td>0.0</td>\n",
       "      <td>0.0</td>\n",
       "      <td>0.0</td>\n",
       "      <td>0.0</td>\n",
       "      <td>0.0</td>\n",
       "      <td>0.0</td>\n",
       "    </tr>\n",
       "    <tr>\n",
       "      <th>4</th>\n",
       "      <td>0.0</td>\n",
       "      <td>0.0</td>\n",
       "      <td>0.0</td>\n",
       "      <td>0.0</td>\n",
       "      <td>0.0</td>\n",
       "      <td>0.0</td>\n",
       "      <td>0.0</td>\n",
       "      <td>0.0</td>\n",
       "      <td>0.0</td>\n",
       "      <td>0.0</td>\n",
       "      <td>0.0</td>\n",
       "      <td>0.0</td>\n",
       "      <td>0.0</td>\n",
       "      <td>0.0</td>\n",
       "      <td>0.0</td>\n",
       "      <td>0.0</td>\n",
       "      <td>0.0</td>\n",
       "      <td>0.0</td>\n",
       "      <td>0.0</td>\n",
       "      <td>0.0</td>\n",
       "    </tr>\n",
       "  </tbody>\n",
       "</table>\n",
       "</div>"
      ],
      "text/plain": [
       "   climate change  global warming  greenhouse gases  carbon dioxide  \\\n",
       "0             0.0             0.0               0.0             0.0   \n",
       "1             0.0             0.0               0.0             0.0   \n",
       "2             0.0             0.0               0.0             0.0   \n",
       "3             0.0             0.0               0.0             0.0   \n",
       "4             0.0             0.0               0.0             0.0   \n",
       "\n",
       "   fossil fuel  level rise  greenhouse gas  gas emissions  sea level  \\\n",
       "0          1.0         0.0             0.0            0.0        0.0   \n",
       "1          0.0         0.0             0.0            1.0        0.0   \n",
       "2          0.0         0.0             0.0            0.0        0.0   \n",
       "3          0.0         0.0             0.0            0.0        0.0   \n",
       "4          0.0         0.0             0.0            0.0        0.0   \n",
       "\n",
       "   united nations  panel climate  summary policymakers  research letters  \\\n",
       "0             0.0            0.0                   0.0               0.0   \n",
       "1             0.0            0.0                   0.0               0.0   \n",
       "2             0.0            0.0                   0.0               0.0   \n",
       "3             0.0            0.0                   0.0               0.0   \n",
       "4             0.0            0.0                   0.0               0.0   \n",
       "\n",
       "   technical summary  high confidence  archivedfrom original  \\\n",
       "0                0.0              0.0                    0.0   \n",
       "1                0.0              0.0                    0.0   \n",
       "2                0.0              0.0                    0.0   \n",
       "3                0.0              0.0                    0.0   \n",
       "4                0.0              0.0                    0.0   \n",
       "\n",
       "   intergovernmental panel  cambridge university  university press  \\\n",
       "0                      0.0                   0.0               0.0   \n",
       "1                      0.0                   0.0               0.0   \n",
       "2                      0.0                   0.0               0.0   \n",
       "3                      0.0                   0.0               0.0   \n",
       "4                      0.0                   0.0               0.0   \n",
       "\n",
       "   carbon brief  \n",
       "0           0.0  \n",
       "1           0.0  \n",
       "2           0.0  \n",
       "3           0.0  \n",
       "4           0.0  "
      ]
     },
     "execution_count": 187,
     "metadata": {},
     "output_type": "execute_result"
    }
   ],
   "source": [
    "pd.DataFrame(X_tfdif_new.toarray(),columns=tfidf_new.vocabulary_).head()"
   ]
  },
  {
   "cell_type": "code",
   "execution_count": 188,
   "id": "6e98695a-2f21-465e-a4f8-62f2afe17941",
   "metadata": {},
   "outputs": [],
   "source": [
    "X_tfidf=tfidf.fit_transform(sentences['sentences'])"
   ]
  },
  {
   "cell_type": "code",
   "execution_count": 189,
   "id": "22e7d3d4-426a-47c6-9706-74531f14d8d8",
   "metadata": {},
   "outputs": [],
   "source": [
    "X_tfidf=pd.DataFrame(X_tfidf.toarray(),columns=tfidf.get_feature_names_out()) # remove the header out from the dataframe"
   ]
  },
  {
   "cell_type": "code",
   "execution_count": 190,
   "id": "191ce72d-bbbc-4bcf-8f34-5cc6aec5d8e3",
   "metadata": {},
   "outputs": [],
   "source": [
    "climate_final=pd.concat([X_tfidf,sentences['sentiment']],axis=1)"
   ]
  },
  {
   "cell_type": "code",
   "execution_count": 191,
   "id": "b0a77f43-f067-4480-9110-c47f8878b45f",
   "metadata": {},
   "outputs": [],
   "source": [
    "climate_final=climate_final[climate_final['sentiment']!=\"Neutral\"]"
   ]
  },
  {
   "cell_type": "code",
   "execution_count": 192,
   "id": "6b5d217d-6e2e-452c-b8bb-d9c8addff8ec",
   "metadata": {},
   "outputs": [],
   "source": [
    "from sklearn.preprocessing import LabelEncoder"
   ]
  },
  {
   "cell_type": "code",
   "execution_count": 193,
   "id": "137ffb12-3d6e-4bb8-980f-abab940c0444",
   "metadata": {},
   "outputs": [],
   "source": [
    "y=LabelEncoder().fit_transform(climate_final['sentiment']) #dummy encode"
   ]
  },
  {
   "cell_type": "code",
   "execution_count": 194,
   "id": "3df18d03-9493-409b-ada7-d2fa077e1ffa",
   "metadata": {},
   "outputs": [],
   "source": [
    "X=climate_final.drop('sentiment',axis=1)"
   ]
  },
  {
   "cell_type": "code",
   "execution_count": 195,
   "id": "6af1a8aa-2e93-43a9-90b2-40aeebf5f798",
   "metadata": {},
   "outputs": [],
   "source": [
    "from sklearn.linear_model import LogisticRegression"
   ]
  },
  {
   "cell_type": "code",
   "execution_count": 196,
   "id": "08650205-8437-4eea-9390-6cfee2bc32ff",
   "metadata": {},
   "outputs": [],
   "source": [
    "logitmodel=LogisticRegression().fit(X,y)"
   ]
  },
  {
   "cell_type": "code",
   "execution_count": 197,
   "id": "1f27ad10-30f3-4873-b54b-da6cb30796ff",
   "metadata": {},
   "outputs": [
    {
     "data": {
      "text/plain": [
       "0.6782752902155887"
      ]
     },
     "execution_count": 197,
     "metadata": {},
     "output_type": "execute_result"
    }
   ],
   "source": [
    "logitmodel.score(X,y)"
   ]
  },
  {
   "cell_type": "code",
   "execution_count": 198,
   "id": "6c915386-278b-40fb-9642-89fdbd3cb461",
   "metadata": {},
   "outputs": [],
   "source": [
    "logitmodel_pred=logitmodel.predict(X)"
   ]
  },
  {
   "cell_type": "code",
   "execution_count": 199,
   "id": "b687ed06-b9ed-4db3-add7-ae508d49db16",
   "metadata": {},
   "outputs": [
    {
     "data": {
      "text/html": [
       "<div>\n",
       "<style scoped>\n",
       "    .dataframe tbody tr th:only-of-type {\n",
       "        vertical-align: middle;\n",
       "    }\n",
       "\n",
       "    .dataframe tbody tr th {\n",
       "        vertical-align: top;\n",
       "    }\n",
       "\n",
       "    .dataframe thead th {\n",
       "        text-align: right;\n",
       "    }\n",
       "</style>\n",
       "<table border=\"1\" class=\"dataframe\">\n",
       "  <thead>\n",
       "    <tr style=\"text-align: right;\">\n",
       "      <th>col_0</th>\n",
       "      <th>0</th>\n",
       "      <th>1</th>\n",
       "    </tr>\n",
       "    <tr>\n",
       "      <th>row_0</th>\n",
       "      <th></th>\n",
       "      <th></th>\n",
       "    </tr>\n",
       "  </thead>\n",
       "  <tbody>\n",
       "    <tr>\n",
       "      <th>0</th>\n",
       "      <td>3</td>\n",
       "      <td>192</td>\n",
       "    </tr>\n",
       "    <tr>\n",
       "      <th>1</th>\n",
       "      <td>2</td>\n",
       "      <td>406</td>\n",
       "    </tr>\n",
       "  </tbody>\n",
       "</table>\n",
       "</div>"
      ],
      "text/plain": [
       "col_0  0    1\n",
       "row_0        \n",
       "0      3  192\n",
       "1      2  406"
      ]
     },
     "execution_count": 199,
     "metadata": {},
     "output_type": "execute_result"
    }
   ],
   "source": [
    "pd.crosstab(y,logitmodel_pred)"
   ]
  },
  {
   "cell_type": "code",
   "execution_count": null,
   "id": "5af66764-bd0b-4f60-938a-93d92d278c8f",
   "metadata": {},
   "outputs": [],
   "source": []
  }
 ],
 "metadata": {
  "kernelspec": {
   "display_name": "Python 3 (ipykernel)",
   "language": "python",
   "name": "python3"
  },
  "language_info": {
   "codemirror_mode": {
    "name": "ipython",
    "version": 3
   },
   "file_extension": ".py",
   "mimetype": "text/x-python",
   "name": "python",
   "nbconvert_exporter": "python",
   "pygments_lexer": "ipython3",
   "version": "3.12.7"
  }
 },
 "nbformat": 4,
 "nbformat_minor": 5
}
