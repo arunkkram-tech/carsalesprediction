{
 "cells": [
  {
   "cell_type": "code",
   "execution_count": 22,
   "id": "08acf45f-fe44-4d3f-85c7-cf5279a6fd1c",
   "metadata": {},
   "outputs": [
    {
     "name": "stdout",
     "output_type": "stream",
     "text": [
      "\n",
      "Fetched Articles:\n",
      "Article 1 Content:\n",
      "\n",
      "Article 2 Content:\n",
      "\n",
      "Article 3 Content:\n",
      "\n",
      "Article 4 Content:\n",
      "\n",
      "Article 5 Content:\n",
      "\n"
     ]
    }
   ],
   "source": [
    "import requests\n",
    "import xml.etree.ElementTree as ET\n",
    "from bs4 import BeautifulSoup\n",
    "import json\n",
    "# Function to fetch the RSS feed\n",
    "def fetch_rss_feed(url):\n",
    "    try:\n",
    "        response = requests.get(url)\n",
    "        response.raise_for_status()  # Check for HTTP request errors\n",
    "        return response.content\n",
    "    except requests.exceptions.RequestException as e:\n",
    "        print(f\"Error fetching RSS feed: {e}\")\n",
    "        return None\n",
    "\n",
    "# Function to process the RSS feed and extract links\n",
    "def process_rss_feed(rss_content):\n",
    "    try:\n",
    "        root = ET.fromstring(rss_content)  # Parse the RSS feed\n",
    "        items = root.findall(\".//item\")  # Find all <item> elements\n",
    "        articles = []  # List to hold all main article content\n",
    "        article_counter=0\n",
    "        for item in items:\n",
    "            link = item.find(\"link\").text.strip() if item.find(\"link\") is not None else None\n",
    "            if link:\n",
    "                #print(f\"Fetching article from: {link}\")\n",
    "                #article_content = fetch_article(link)\n",
    "                article_content = fetch_article_content_from_second_jsonld(link)\n",
    "                if article_content:\n",
    "                    articles.append(article_content)\n",
    "            else:\n",
    "                print(\"No link found in this item.\")\n",
    "            article_counter=article_counter+1\n",
    "            if(article_counter>=5):\n",
    "                break\n",
    "        return articles\n",
    "    except ET.ParseError as e:\n",
    "        print(f\"Error parsing RSS feed: {e}\")\n",
    "        return []\n",
    "\"\"\"\n",
    "# Function to fetch the main article content\n",
    "def fetch_article(link):\n",
    "    try:\n",
    "        response = requests.get(link)\n",
    "        response.raise_for_status()  # Check for HTTP request errors\n",
    "        return response.text  # Return the full article content (HTML or text)\n",
    "    except requests.exceptions.RequestException as e:\n",
    "        print(f\"Error fetching article from {link}: {e}\")\n",
    "        return None\n",
    "\"\"\"\n",
    "# Function to fetch and extract the articleBody from the second JSON-LD\n",
    "def fetch_article_content_from_second_jsonld(url):\n",
    "    try:\n",
    "        # Fetch the HTML content of the URL\n",
    "        response = requests.get(url)\n",
    "        response.raise_for_status()  # Check for HTTP request errors\n",
    "        \n",
    "        # Parse the HTML content with BeautifulSoup\n",
    "        soup = BeautifulSoup(response.content, 'html.parser')\n",
    "        \n",
    "        # Find all <script> tags with type=\"application/ld+json\"\n",
    "        script_tags = soup.find_all('script', type='application/ld+json')\n",
    "\n",
    "        if len(script_tags) < 2:\n",
    "            print(\"The second JSON-LD <script> tag was not found.\")\n",
    "            return None\n",
    "       \n",
    "        # Get the content of the second <script> tag\n",
    "        second_script = script_tags[1]\n",
    "        json_data = json.loads(second_script.string)  # Parse the JSON content\n",
    "   \n",
    "        \n",
    "        # Extract the \"articleBody\" key\n",
    "        article_body = json_data.get(\"articleBody\")\n",
    "        if not article_body:\n",
    "            print(\"No 'articleBody' key found in the second JSON-LD.\")\n",
    "            return None\n",
    "        \n",
    "        return article_body.strip()  # Return the article content\n",
    "        \n",
    "    except requests.exceptions.RequestException as e:\n",
    "        print(f\"Error fetching the URL: {e}\")\n",
    "        return None\n",
    "    except json.JSONDecodeError as e:\n",
    "        print(f\"Error parsing JSON: {e}\")\n",
    "        return None\n",
    "    except AttributeError as e:\n",
    "        print(f\"Error finding the JSON-LD script: {e}\")\n",
    "        return None\n",
    "# Main program\n",
    "if __name__ == \"__main__\":\n",
    "    # Replace this URL with the actual RSS feed URL\n",
    "    rss_feed_url = \"https://economictimes.indiatimes.com/industry/auto/rssfeeds/13359412.cms\"\n",
    "    \n",
    "    # Fetch the RSS feed content\n",
    "    rss_content = fetch_rss_feed(rss_feed_url)\n",
    "\n",
    "    market_update_list=[]\n",
    "    \n",
    "    if rss_content:\n",
    "        # Process the RSS feed and fetch articles\n",
    "        articles = process_rss_feed(rss_content)\n",
    "        print(\"\\nFetched Articles:\")\n",
    "        for i, article in enumerate(articles, 1):\n",
    "            print(f\"Article {i} Content:\\n\")\n",
    "            #print(article)  # Print the first 500 characters of each article\n",
    "            #print(\"\\n\" + \"=\"*80 + \"\\n\")\n",
    "            market_update_list.append(article)\n",
    "        "
   ]
  },
  {
   "cell_type": "code",
   "execution_count": 23,
   "id": "cfe29730-d610-43e3-b621-1c73763d4980",
   "metadata": {},
   "outputs": [
    {
     "name": "stdout",
     "output_type": "stream",
     "text": [
      "[\"Prime Minister Narendra Modi will inaugurate the second edition of Bharat Mobility Global Expo on Friday which is expected to witness over 100 new launches across automobiles, component products and technologies. The Bharat Mobility Global Expo 2025, scheduled from January 17-22, will bring the entire value chain of the mobility ecosystem -- from automobile manufacturers to components, electronics parts, tyre and energy storage makers, and automotive software firms and material recyclers -- under a single umbrella. With a theme  Beyond Boundaries: Co-creating Future Automotive Value Chain , aiming to foster collaboration and innovation across the automotive and mobility sector with an emphasis on sustainable and cutting-edge technological advancements, the global expo will be held across three venues -- Bharat Mandapam in New Delhi, Yashobhoomi at Dwarka, Delhi and India Expo Centre & Mart, Greater Noida. Notably, India's flagship motor show, the biennial Auto Expo -- now clubbed with the Bharat Mobility Global Expo -- will also return to its original place, the erstwhile Pragati Maidan (now Bharat Mandapam) after more than a decade away at India Expo Centre and Mart at Greater Noida. The global expo, which is supported by the Ministry of Commerce & Industry, is being hosted by industry associations, including Society of Indian Automobile Manufacturers (SIAM), Automotive Component Manufacturers Association of India (ACMA), India Energy Storage Alliance (IESA), Automotive Tyre Manufacturers Association (ATMA), Indian Construction Equipment Manufacturers Association (ICEMA), Nasscom, Indian Steel Association, Material Recycling Association of India, and CII. It will have 5,100 international participants and is estimated to attract more than 5 lakh visitors from across the globe. In the automotive segment at Bharat Mandapam, electric vehicles are expected to hog the limelight with the likes of passenger vehicle market leader Maruti Suzuki unveiling its first electric vehicle, SUV e VITARA and rival Hyundai Motor India Ltd set to launch the Crtea EV on the first day. In the luxury segment, German major Mercedes-Benz will launch its electric EQS Maybach SUV, while showcasing the electric concept CLA, and G Electric SUV. Similarly, compatriot BMW will showcase the all-electric BMW i7 apart from launching its all-new BMW X3 among others. Overall, more than 40 new product launches are expected at this main attraction of Bharat Mobility Global Expo, 2025. At the components show, to be held from January 18-21, 2025 at Yashobhoomi, over 1,000 exhibitors from around seven countries will be participating. There are five country pavilions from Japan, Germany, South Korea, Taiwan and the UK, and exhibitors from USA, Israel and Thailand. Over 60 new product and technology launches are expected at the components show. The Bharat Mobility Global Expo 2025 will also witness the 1st edition of Bharat Construction Equipment Expo (Bharat CE Expo) 2025 from January 19-22 at India Expo Mart, Greater Noida, where large-scale participation of CE (construction equipment) industry, including component manufacturers, suppliers, financiers, technology solution providers and others are expected.\", \"Japan's Suzuki Motor Corporation plans to enter the electric small car segment in future after gathering experience from its first EV, SUV e VITARA which will make its global debut in India which will be the company's production hub, its Representative Director and President Toshihiro Suzuki said on Thursday.The Japanese carmaker also believes that despite declining sales, small cars will not cease to exist in India, where its subsidiary Maruti Suzuki India is the market leader, as  one billion people  who are likely to upgrade from two-wheelers to four-wheelers in future would still need affordable cars, Suzuki told reporters here in an interaction. Maruti Suzuki India will unveil the e VITARA on Friday at the Bharat Mobility Global Expo 2025 being held at Bharat Mandapam.  Although we are launching our first EV, e VITARA, my personal feeling is that the compact vehicles will be the best for EVs... (but) I think first one has learn and master properly the manufacturing techniques of EVs...So, after grasping it fully we would like to shift to EVs for small cars as well, like the others. We do have plans of having EVs in the small car segment,  Suzuki said. He was responding to a query on the EV road map for Suzuki Motor Corporation (SMC), which is known globally for its small cars. Asked for a timeline for entry into small electric cars, Suzuki did not elaborate but said after launching the e VITARA the company would like to get feedback from customers on the vehicle and Maruti Suzuki will also try to understand customers' response, then only it would go ahead with plans for small electric cars. Suzuki also said SMC's two-wheeler arm Suzuki Motorcycle India will also unveil electric scooter e Access at the Bharat Mobility Global Expo besides the e VITARA.  These BEVs (battery electric vehicles) represent global models and India will be the production hub for these vehicles,  he said, adding India's significance as an export hub for four-wheelers and two-wheelers for SMC is  increasingly becoming more important than ever before .  We would like to export not only EVs but the other models also. We would like to develop India as an export hub for all the models,  Suzuki said. On the rationale for making India the export hub, he said,  For Suzuki, the scale merit in India is our strength, and we will fully leverage this advantage to supply high quality and appealing products across various regions, such as Europe, Japan, the Middle East and Africa, Central and South America and Asian countries.  The e VITARA will be exported to Europe and then Japan followed by the other markets in the world. Suzuki said Maruti Suzuki India resumed exports to Japan last year with Fronx and there is a pending order of 15,000 units and currently the model is exported to over 70 countries from India. In 2024, the company achieved exports of 3.26 lakh units, which was the highest ever irrespective of calendar or fiscal year. Asked about the outlook for small cars, which has seen a decline in sales in India with SUVs growing faster, Suzuki said,  When we look at the market the sales of Maruti Suzuki's small cars are comparable to the SUVs which are being currently sold by other manufacturers. So it's still selling.  He further said,  I don't think small cars would cease to exist (in India). There are 1 billion people who are likely to upgrade from two-wheelers to four-wheelers in future and they would need an affordable, good car in the small segment.\", \"Bain Capital, a global private investment firm, announced a strategic growth investment in Dhoot Transmission Group (Dhoot), a leading manufacturer of automotive components. Financial details are not disclosed. Bain has acquired about 40-45% stake in Dhoot at a $1 billion valuation, said sources. Through an aligned partnership with Founder and CEO, Rahul Dhoot, Bain Capital will leverage its global automotive expertise and deep value-creation capabilities to support the company’s continued growth, stated a press release. Founded in 1999, Dhoot Transmission Group is a leader in Two-Wheeler and Three-Wheeler Wiring Harness. The company’s Wiring Harnesses also power Heavy and Light Commercial Vehicles, Off-road Vehicles, and Farm Equipment in ICE and EV segments across the globe, it said.Over the past 25 years, Dhoot Transmission Group has also diversified in Electronics Sensors & Controllers, Automotive Switches, Connection Systems, and an array of EV products, including Charging Guns, Inlets, Off-Board Chargers, RCDs, High Voltage & Low Voltage Wiring Harness, and assembly of Li-Ion Batteries.Dhoot Transmission Group has expanded internationally, employing over 10,000 people across 20 state-of-the-art manufacturing facilities in India, the UK, Slovakia, and Thailand. 'Bain Capital's strategic expertise and integrity make them the perfect partner to help us scale globally and pursue emerging opportunities that deliver value to our customers worldwide,  said Rahul Dhoot, Founder and CEO of Dhoot Transmission Group. Their customer-first approach and strong employee engagement has helped the group to build a leading auto-component business and together, we see significant opportunities to expand both organically and inorganically, accelerate exports, and enhance their global footprint,” said Saahil Bhatia, Managing Director at Bain Capital.Since establishing its Mumbai office in 2008, Bain Capital has ade notable investments including Hero MotoCorp, RSB Transmissions, Porus Labs, 360one Wealth, CitiusTech, J.M. Baxi, and Quest Global. Singhi Advisors, Trilegal and Deloitte served as advisors to Dhoot Transmission Group.\", \"Hero MotoCorp Ltd, India’s largest two-wheeler maker, is not concerned about slowing demand in the urban market, saying consumption in these centres had grown disproportionately after the pandemic.Speaking to ET, Hero MotoCorp chief executive Niranjan Gupta however urged the Centre to consider reducing Goods and Services Tax (GST) on entry-level or up to 125cc two-wheelers to spur demand at the lower end of the market where sales are starting to show green shoots of recovery after a prolonged lull. “I think there's too much made out of urban consumption under pressure. If you look at it, post Covid, urban has been the one that's been taking the entire weight of growth across categories. And now that rural is starting to come back, obviously the percentages of consumption in rural versus urban are getting more evened out towards rural. So it gives an impression, urban is slowing down, but urban has had their share of much higher consumption so far, which was the post Covid phenomenon”, said Gupta.Share of urban areas in Hero’s total sales fell to 47% in the first nine months of this financial year, from 60% in the year-earlier period.However, even rural markets outpaced urban ones for the past few months, and especially since the festive season, Gupta said it will only supplement instead of eating into overall growth in the Indian two-wheeler industry. Better kharif harvest, good monsoons, and increased minimum support prices together will augur well to support rural demand for the next 6-8 quarters, said Gupta. “Rural has taken time and as that comes back, it will have a multiplier impact between the two (rural and urban). And as the economy keeps growing between 6-7%, as capex spends keep happening, I believe it (growth) will accelerate as we move forward,” he said. On reducing GST on entry-level two-wheelers, Gupta argued there is a strong case for the tax rate to move down to 18% from 28%, especially for two-wheelers up to 125cc, “because they are meant as vehicles for masses; they are not sin goods or luxury goods; they provide mobility to masses in India.”Detailing Hero MotoCorp’s product launch plans, Gupta said while the company has lined up multiple launches to strengthen its presence in the entry-level and premium two-wheeler segments, it is preparing to introduce its third electric scooter in the June quarter.He said in the electric vehicle segment, cost leadership will be key to driving sales and market share.“We are well on our way in terms of addressing the cost structure on EV as well without subsidy,” he said, referring to a potential discontinuation of EV subsidies by the Centre in the coming years.In addition to local sales, exports too will be a priority for the company, mid-term. Gupta said Hero MotoCorp is developing customised products to meet varied needs across markets and will disproportionately plough in resources to grow its footprint in the top 10 international markets. “The global business is the other growth engine. We started putting our footprint in global markets some years back; we are into 48 countries,” he said.“We announced our foray into Brazil, which we are working on. We've commenced operations in the Philippines, which is part of the Southeast Asia entry. We are getting our acts right in Mexico, Colombia, Bangladesh; some of the countries which have resulted in almost a 40% growth in global business in the first nine months of the current fiscal and with an increase in market share as well,” he said.\", \"There is a strong case for GST reduction on two-wheelers up to 125 cc as these cater to non-sin goods but mobility option for masses in the country, Hero MotoCorp CEO Niranjan Gupta said on Wednesday.  The government should also continue on the path for long-term growth, stability and investments, he added.  He was answering to a query regarding wishlist for the upcoming Union Budget.   Honestly, GST is not the subject of the Union budget. But having said that, I would say there's a strong case for GST to move down from 28 to 18 per cent especially for two-wheelers, up to 125 cc, because they are meant as vehicles for masses,  Gupta said.  They are not sin or luxury goods but provide mobility to masses in India, he added.   The entry-level two-wheelers help generate lot of direct indirect employment. So whichever way you look at it, there is a strong case for at least two-wheelers, up to 125 cc to move down to 18 per cent GST,  Gupta noted.  Besides, the government should continue on the path for long-term growth, stability and investments so capex investments, should continue to increase, he said.   The policies should not be changed overnight. So whatever the incentive policies, subsidies, policies, there should be more long-term visibility, because then businesses can adjust to that,  Gupta said.  Moreover, expansion of employment generation schemes that have been launched should also be there, he added.  Currently, there is a 28 per cent uniform GST rate for all two-wheelers.\"]\n"
     ]
    }
   ],
   "source": [
    "print(market_update_list)"
   ]
  },
  {
   "cell_type": "code",
   "execution_count": 24,
   "id": "b7c4865c-67f8-423e-ac1c-de76b088a36d",
   "metadata": {},
   "outputs": [],
   "source": [
    "from textblob import TextBlob"
   ]
  },
  {
   "cell_type": "code",
   "execution_count": 25,
   "id": "6f15c7de-2d66-4d9e-a3ab-b5e4b67360ae",
   "metadata": {},
   "outputs": [
    {
     "name": "stdout",
     "output_type": "stream",
     "text": [
      "Positive\n"
     ]
    }
   ],
   "source": [
    "analysis0=TextBlob(market_update_list[0])\n",
    "analysis0.sentiment\n",
    "\n",
    "if(analysis0.sentiment.polarity>0):        \n",
    "        print(\"Positive\")\n",
    "elif(analysis0.sentiment.polarity==0):\n",
    "        print(\"Neutral\")\n",
    "else:\n",
    "        print(\"Negative\")"
   ]
  },
  {
   "cell_type": "code",
   "execution_count": 26,
   "id": "2f904da9-104a-4f39-9196-30dfaf03cf7e",
   "metadata": {},
   "outputs": [
    {
     "name": "stdout",
     "output_type": "stream",
     "text": [
      "Positive\n"
     ]
    }
   ],
   "source": [
    "analysis1=TextBlob(market_update_list[1])\n",
    "analysis1.sentiment\n",
    "\n",
    "if(analysis1.sentiment.polarity>0):        \n",
    "        print(\"Positive\")\n",
    "elif(analysis1.sentiment.polarity==0):\n",
    "        print(\"Neutral\")\n",
    "else:\n",
    "        print(\"Negative\")   "
   ]
  },
  {
   "cell_type": "code",
   "execution_count": 27,
   "id": "afc4d8f2-42f5-4784-81cd-b48b12d30289",
   "metadata": {},
   "outputs": [
    {
     "name": "stdout",
     "output_type": "stream",
     "text": [
      "Positive\n"
     ]
    }
   ],
   "source": [
    "analysis2=TextBlob(market_update_list[2])\n",
    "analysis2.sentiment\n",
    "\n",
    "if(analysis2.sentiment.polarity>0):        \n",
    "        print(\"Positive\")\n",
    "elif(analysis2.sentiment.polarity==0):\n",
    "        print(\"Neutral\")\n",
    "else:\n",
    "        print(\"Negative\")"
   ]
  },
  {
   "cell_type": "code",
   "execution_count": null,
   "id": "d800a251-1b48-49a8-8747-7bb9d86eae70",
   "metadata": {},
   "outputs": [],
   "source": []
  }
 ],
 "metadata": {
  "kernelspec": {
   "display_name": "Python 3 (ipykernel)",
   "language": "python",
   "name": "python3"
  },
  "language_info": {
   "codemirror_mode": {
    "name": "ipython",
    "version": 3
   },
   "file_extension": ".py",
   "mimetype": "text/x-python",
   "name": "python",
   "nbconvert_exporter": "python",
   "pygments_lexer": "ipython3",
   "version": "3.12.7"
  }
 },
 "nbformat": 4,
 "nbformat_minor": 5
}
