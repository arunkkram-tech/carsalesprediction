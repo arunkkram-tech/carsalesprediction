{
 "cells": [
  {
   "cell_type": "code",
   "execution_count": 1,
   "id": "7d9d4502-2c38-4ec7-ae70-2fe3f805be0f",
   "metadata": {},
   "outputs": [
    {
     "name": "stdout",
     "output_type": "stream",
     "text": [
      "Hello\n"
     ]
    }
   ],
   "source": [
    "print ( 'Hello')\n",
    "\n",
    "#reason for python adoptation i s faster computation and less requirement of computing power compared to other programming laguages\n",
    "\n",
    "#syntax is short"
   ]
  },
  {
   "cell_type": "code",
   "execution_count": 34,
   "id": "c86327ab-5c8e-4fcd-9fc5-f569f54e319c",
   "metadata": {},
   "outputs": [
    {
     "name": "stdout",
     "output_type": "stream",
     "text": [
      " Mix Array > \n",
      "[1, 4, 13, 8.2389, 0, 'ABCD']\n",
      " Num Array <<insert>> function > \n",
      "[2, 13, 45, 79, 17, 9, 123]\n",
      " Num Array <<copy>> function > \n",
      "[2, 13, 45, 79, 17, 9, 123]\n",
      " Num Array <<extend>> function >  it extends the list. Does not return anythin ! \n",
      "[2, 13, 45, 79, 17, 9, 123, 100, 200, 79]\n",
      " Num Array <<length>> function returns the length > \n",
      "10\n",
      " Num Array <<count>> function returns the occurance of an entry in an array > \n",
      "2\n",
      " Num Array <<remove>> function removes the first particular item > \n",
      "[2, 13, 45, 17, 9, 123, 100, 200, 79]\n",
      "----------------------------------------------------------------------------------------------\n",
      "[2, 13, 45, 17, 9, 123, 100, 200, 79]\n",
      "----------------------------------------------------------------------------------------------\n",
      "[2, 13, 45, 17, 9, 123, 200]\n"
     ]
    }
   ],
   "source": [
    "#fundamental data structures are Arrays and Lists. start and end with []\n",
    "\n",
    "#Arrays are MUTABLE . ( changes can be made , multiple data types are allowed,follow the order in which data is entered)\n",
    "mixarrays=[1,4,13,8.2389,0,'ABCD']\n",
    "\n",
    "print(' Mix Array > ')\n",
    "print(mixarrays)\n",
    "\n",
    "#OPERATIONS\n",
    "#. 1 append \n",
    "\n",
    "numarrays=[2,13,45,79,17,9]\n",
    "numarrays.insert(7,123)\n",
    "print(' Num Array <<insert>> function > ')\n",
    "print(numarrays)\n",
    "\n",
    "#. 3 copy\n",
    "copynumarrays=numarrays.copy()\n",
    "print(' Num Array <<copy>> function > ')\n",
    "print(copynumarrays)\n",
    "\n",
    "#. 4 extend\n",
    "numarrays.extend([100,200,79])\n",
    "print(' Num Array <<extend>> function >  it extends the list. Does not return anythin ! ')\n",
    "print(numarrays)\n",
    "\n",
    "# 5. len\n",
    "\n",
    "print(' Num Array <<length>> function returns the length > ')\n",
    "print(len(numarrays))\n",
    "\n",
    "# 6. count\n",
    "\n",
    "print(' Num Array <<count>> function returns the occurance of an entry in an array > ')\n",
    "print(numarrays.count(79))\n",
    "\n",
    "# 7. remove\n",
    "\n",
    "numarrays.remove(79)\n",
    "print(' Num Array <<remove>> function removes the first particular item > ')\n",
    "print(numarrays)\n",
    "\n",
    "#.8 remove duplicates\n",
    "\n",
    "remove_list=[79,100,500]\n",
    "result=[]\n",
    "print('----------------------------------------------------------------------------------------------')\n",
    "print(numarrays)\n",
    "print('----------------------------------------------------------------------------------------------')\n",
    "for x in numarrays:\n",
    "        if x not in remove_list:\n",
    "            result.append(x)\n",
    "print(result)"
   ]
  },
  {
   "cell_type": "code",
   "execution_count": 7,
   "id": "d425d028-299f-49eb-9f71-d970ab3ef3ca",
   "metadata": {},
   "outputs": [
    {
     "name": "stdout",
     "output_type": "stream",
     "text": [
      "(1, 4, 13, 8.2389, 0, 'ABCD')\n"
     ]
    }
   ],
   "source": [
    "#tuples \n",
    "#IMMUTABLE . start and end with (). Allow duplicates and follow the order in which data is entered\n",
    "mixtupple=(1,4,13,8.2389,0,'ABCD')\n",
    "\n",
    "print(mixtupple)\n",
    "\n"
   ]
  },
  {
   "cell_type": "code",
   "execution_count": 4,
   "id": "f7cd9d1c-1455-4e05-b2f0-c977b9ca2b12",
   "metadata": {},
   "outputs": [
    {
     "name": "stdout",
     "output_type": "stream",
     "text": [
      "{0, 1, 4, 8.2389, 13, 'ABCD'}\n"
     ]
    }
   ],
   "source": [
    "#SETS\n",
    "# MUTABLE  , start and end with {} . NO DUPLICATES , NO ORDER ( does not follow the order in which data is entered )\n",
    "mixsets={1,4,13,8.2389,0,'ABCD'}\n",
    "\n",
    "print(mixsets)\n",
    "\n"
   ]
  },
  {
   "cell_type": "code",
   "execution_count": 11,
   "id": "0519c089-72b1-48ac-809e-5ab7f1a6307b",
   "metadata": {},
   "outputs": [
    {
     "name": "stdout",
     "output_type": "stream",
     "text": [
      "{'Male': 'ABCD', 'Female': 'EFGH'}\n"
     ]
    }
   ],
   "source": [
    "#Dictionaries\n",
    "#key value pairs , start and end with {}\n",
    "\n",
    "\n",
    "mixdict={'Male':\"ABCD\",'Female':\"EFGH\"}\n",
    "print(mixdict)\n"
   ]
  },
  {
   "cell_type": "code",
   "execution_count": null,
   "id": "08635e32-66d7-40fa-ae3d-81c24a9d1d63",
   "metadata": {},
   "outputs": [],
   "source": []
  }
 ],
 "metadata": {
  "kernelspec": {
   "display_name": "Python 3 (ipykernel)",
   "language": "python",
   "name": "python3"
  },
  "language_info": {
   "codemirror_mode": {
    "name": "ipython",
    "version": 3
   },
   "file_extension": ".py",
   "mimetype": "text/x-python",
   "name": "python",
   "nbconvert_exporter": "python",
   "pygments_lexer": "ipython3",
   "version": "3.12.7"
  }
 },
 "nbformat": 4,
 "nbformat_minor": 5
}
