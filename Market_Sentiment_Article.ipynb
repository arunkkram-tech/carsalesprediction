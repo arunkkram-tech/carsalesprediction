{
 "cells": [
  {
   "cell_type": "code",
   "execution_count": 35,
   "id": "08acf45f-fe44-4d3f-85c7-cf5279a6fd1c",
   "metadata": {},
   "outputs": [],
   "source": [
    "import requests\n",
    "import xml.etree.ElementTree as ET\n",
    "from bs4 import BeautifulSoup\n",
    "import json\n",
    "# Function to fetch the RSS feed\n",
    "def fetch_rss_feed(url):\n",
    "    try:\n",
    "        response = requests.get(url)\n",
    "        response.raise_for_status()  # Check for HTTP request errors\n",
    "        return response.content\n",
    "    except requests.exceptions.RequestException as e:\n",
    "        print(f\"Error fetching RSS feed: {e}\")\n",
    "        return None\n",
    "\n",
    "# Function to process the RSS feed and extract links\n",
    "def process_rss_feed(rss_content):\n",
    "    try:\n",
    "        root = ET.fromstring(rss_content)  # Parse the RSS feed\n",
    "        items = root.findall(\".//item\")  # Find all <item> elements\n",
    "        articles = []  # List to hold all main article content\n",
    "        article_counter=0\n",
    "        for item in items:\n",
    "            link = item.find(\"link\").text.strip() if item.find(\"link\") is not None else None\n",
    "            if link:\n",
    "                #print(f\"Fetching article from: {link}\")\n",
    "                #article_content = fetch_article(link)\n",
    "                article_content = fetch_article_content_from_second_jsonld(link)\n",
    "                if article_content:\n",
    "                    articles.append(article_content)\n",
    "            else:\n",
    "                print(\"No link found in this item.\")\n",
    "            article_counter=article_counter+1\n",
    "            if(article_counter>=5):\n",
    "                break\n",
    "        return articles\n",
    "    except ET.ParseError as e:\n",
    "        print(f\"Error parsing RSS feed: {e}\")\n",
    "        return []\n",
    "\"\"\"\n",
    "# Function to fetch the main article content\n",
    "def fetch_article(link):\n",
    "    try:\n",
    "        response = requests.get(link)\n",
    "        response.raise_for_status()  # Check for HTTP request errors\n",
    "        return response.text  # Return the full article content (HTML or text)\n",
    "    except requests.exceptions.RequestException as e:\n",
    "        print(f\"Error fetching article from {link}: {e}\")\n",
    "        return None\n",
    "\"\"\"\n",
    "# Function to fetch and extract the articleBody from the second JSON-LD\n",
    "def fetch_article_content_from_second_jsonld(url):\n",
    "    try:\n",
    "        # Fetch the HTML content of the URL\n",
    "        response = requests.get(url)\n",
    "        response.raise_for_status()  # Check for HTTP request errors\n",
    "        \n",
    "        # Parse the HTML content with BeautifulSoup\n",
    "        soup = BeautifulSoup(response.content, 'html.parser')\n",
    "        \n",
    "        # Find all <script> tags with type=\"application/ld+json\"\n",
    "        script_tags = soup.find_all('script', type='application/ld+json')\n",
    "\n",
    "        if len(script_tags) < 2:\n",
    "            print(\"The second JSON-LD <script> tag was not found.\")\n",
    "            return None\n",
    "       \n",
    "        # Get the content of the second <script> tag\n",
    "        second_script = script_tags[1]\n",
    "        json_data = json.loads(second_script.string)  # Parse the JSON content\n",
    "   \n",
    "        \n",
    "        # Extract the \"articleBody\" key\n",
    "        article_body = json_data.get(\"articleBody\")\n",
    "        #article_body = json_data.get(\"description\")\n",
    "        \n",
    "        if not article_body:\n",
    "            print(\"No 'articleBody' key found in the second JSON-LD.\")\n",
    "            return None\n",
    "        \n",
    "        return article_body.strip()  # Return the article content\n",
    "        \n",
    "    except requests.exceptions.RequestException as e:\n",
    "        print(f\"Error fetching the URL: {e}\")\n",
    "        return None\n",
    "    except json.JSONDecodeError as e:\n",
    "        print(f\"Error parsing JSON: {e}\")\n",
    "        return None\n",
    "    except AttributeError as e:\n",
    "        print(f\"Error finding the JSON-LD script: {e}\")\n",
    "        return None\n",
    "# Main program\n",
    "if __name__ == \"__main__\":\n",
    "    # Replace this URL with the actual RSS feed URL\n",
    "    link = \"https://economictimes.indiatimes.com/markets/stocks/news/dixon-technologies-shares-tumble-6-in-2-weeks-is-long-term-bullishness-intact/articleshow/117293175.cms\"\n",
    "\n",
    "    article_content = fetch_article_content_from_second_jsonld(link)\n",
    "\n",
    "    link2 = \"https://economictimes.indiatimes.com/markets/stocks/news/waaree-technologies-shares-hit-5-upper-circuit-on-winning-order-for-99-sets-of-solar-off-grid-combo-sets/articleshow/117298047.cms\"\n",
    "\n",
    "    article_content2 = fetch_article_content_from_second_jsonld(link2)\n",
    "\n",
    "    link3=\"https://economictimes.indiatimes.com/markets/stocks/news/kotak-equities-downgrades-trent-to-sell-stock-down-by-nearly-4/articleshow/117295860.cms\"\n",
    "\n",
    "    article_content3 = fetch_article_content_from_second_jsonld(link3)\n",
    "  "
   ]
  },
  {
   "cell_type": "code",
   "execution_count": 36,
   "id": "cfe29730-d610-43e3-b621-1c73763d4980",
   "metadata": {},
   "outputs": [
    {
     "name": "stdout",
     "output_type": "stream",
     "text": [
      "Shares of Dixon Technologies have been displaying strength over the past few months and hit a new all-time high of Rs 19,148.90 in December 2024, from where the stock started to retrace.On the daily chart, the stock is currently trading around Rs 16,919 and has fallen by nearly 6% in the last 2 weeks.However, the stock has shown a rebound from its recent support level near Rs 15,953. The resistance zone is observed near Rs 17,295.It is trading below its 20-day and 50-day EMAs (Rs 17,391 and Rs 15,869, respectively), indicating short-term weakness, though it remains above its 100-day EMA at Rs 14,417, which hints at the underlying medium-term support.While the longer-term uptrend remains intact, with the stock trading above its 100-day (Rs 15,369) and 200-day (Rs 12,752) moving averages, the recent price action suggests a potential consolidation phase.“Dixon has experienced a decline, slipping below its short-term moving average, the 20 DEMA, which has disrupted its momentum. However, the broader uptrend remains intact. The stock is likely to consolidate within the 15,400-17,300 range, with a decisive breakout determining the next directional move,” said Ajit Mishra, SVP of Research at Religare Broking.He said a positive outlook should be maintained as long as the stock holds above the lower boundary of this range. Also read: Macquarie bullish on QSR sector; initiates coverage on 2 stocks“In the event of a breakout, Dixon could potentially retest the 18,400-19,000 zone,” Mishra added.Further, the RSI of the stock stands at 62.83, reflecting bullish momentum but nearing overbought levels. This signals a cautious approach as profit-booking may emerge near resistance.The stock has exhibited a bullish reversal pattern on the daily chart around the Rs 15,900 zone. “This level (Rs 15,900) previously acted as a breakout point in the last quarter, reinforcing its significance. A short-term bullish engulfing pattern has formed at the same level, signalling a positive outlook,” said Ganesh Dongre, Senior Manager - Technical Research Analyst at Anand Rathi Shares and Stock Brokers.With this, Dongre advised traders to buy the stock with a stop-loss of Rs 15,500 and target a price of Rs 17,500.On Wednesday, Dixon Technologies shares closed 4% higher at Rs 16,930.30 on the BSE.(Disclaimer: Recommendations, suggestions, views and opinions given by the experts are their own. These do not represent the views of The Economic Times)\n"
     ]
    }
   ],
   "source": [
    "print(article_content)\n"
   ]
  },
  {
   "cell_type": "code",
   "execution_count": 37,
   "id": "d21f0f70-248e-41ee-9652-e6f564256b28",
   "metadata": {},
   "outputs": [
    {
     "name": "stdout",
     "output_type": "stream",
     "text": [
      "Shares of Waaree Technologies hit their 5% upper circuit at Rs 383.75 on the BSE in intraday trade after the company announced that it won an order for 99 sets of solar off-grid combo sets on Wednesday.“Pursuant to Regulation 30 of the SEBI (Listing Obligations and Disclosure Requirements) Regulations, 2015 (“Listing Regulation”), please take note that the company has received an order of 99 sets of solar off-grid combo sets on January 15, 2025, from a customer engaged in the trading activities, to be delivered in three months,” the exchange filing to the stock exchanges said.As stated in the filing, the customer who has ordered the solar off-grid combo sets is engaged in trading activities and this supply contract is expected to be executed within three months.No further details about the order win have been provided by the company.Also read: RIL posted three consecutive quarters of profit decline. Will Q3 deliver big?Waaree Technologies share price performanceOver 2 years, the shares of Waaree Technologies have given returns of 150.41%. However, in the last 1 year, the stock declined by 59%. Even in the last 6 months and 3 months, the shares were down by 68.9% and 56.9%, respectively, according to the BSE Analytics.Waaree Technologies technical placementTechnically, the shares of Waaree Technologies are trading below all their significant exponential moving averages (10, 20, 50, 100 and 200 DEMA) and oscillating near the 18-level mark on the relative strength indicator (RSI), according to the Trendlyne data.An RSI below 20 is considered strongly oversold.(Disclaimer: Recommendations, suggestions, views and opinions given by the experts are their own. These do not represent the views of The Economic Times)\n"
     ]
    }
   ],
   "source": [
    "print(article_content2)"
   ]
  },
  {
   "cell_type": "code",
   "execution_count": 38,
   "id": "bfe9b24d-d4d3-4b79-ac52-89a07d216949",
   "metadata": {},
   "outputs": [
    {
     "name": "stdout",
     "output_type": "stream",
     "text": [
      "The shares of Trent, the fashion and retail arm of the Tata Group, witnessed a decline of 3.7% on Thursday and hit their day's low of Rs 6,152.50 on the BSE after domestic brokerage firm Kotak Institutional Equities downgraded the stock to ‘sell’ from an earlier ‘add’ rating. The domestic brokerage has also lowered the target price for Trent shares to Rs 5,850 from Rs 6,800.While acknowledging Trent's robust growth narrative, Kotak maintained that this positive outlook is now fully factored into the stock's current market value, suggesting that there is limited upside potential in the stock from its current levels.A key concern highlighted by Kotak is the rapid expansion of Zudio, Trent's value fashion brand. The brokerage believes that Zudio has expanded too aggressively, resulting in an overabundance of stores in select urban pockets. This saturation could potentially lead to cannibalization of sales within existing stores and limit further growth potential.Furthermore, the brokerage firm also expressed disappointment with the pace of store additions for Westside, Trent's premium apparel brand. Similarly, the expansion of Star stores, Trent's large-format retail outlets, has also fallen short of expectations, raising concerns about the company's overall growth strategy.In light of these concerns regarding store expansion and potential market saturation, Kotak has revised its financial projections for Trent. The brokerage firm has cut its revenue estimates for fiscal years 2025-2027 (FY25-27) by 1-2% and its earnings per share (EPS) estimates by a more substantial 9-14%.Also read: RIL posted three consecutive quarters of profit decline. Will Q3 deliver big?“After a period of significant stock price appreciation, investors who have profited from Trent's upward trajectory may consider booking profits,” recommended Kotak in its note.The above view and recommendation from the brokerage firm potentially imply that the stock's current valuation now seems to be stretched and that there may be a risk of a potential correction.(Disclaimer: Recommendations, suggestions, views and opinions given by the experts are their own. These do not represent the views of The Economic Times)\n"
     ]
    }
   ],
   "source": [
    "print(article_content3)"
   ]
  },
  {
   "cell_type": "code",
   "execution_count": 39,
   "id": "b7c4865c-67f8-423e-ac1c-de76b088a36d",
   "metadata": {},
   "outputs": [],
   "source": [
    "from textblob import TextBlob"
   ]
  },
  {
   "cell_type": "code",
   "execution_count": 40,
   "id": "6f15c7de-2d66-4d9e-a3ab-b5e4b67360ae",
   "metadata": {},
   "outputs": [
    {
     "data": {
      "text/plain": [
       "Sentiment(polarity=0.056330876330876335, subjectivity=0.33947174447174444)"
      ]
     },
     "execution_count": 40,
     "metadata": {},
     "output_type": "execute_result"
    }
   ],
   "source": [
    "analysis0=TextBlob(article_content)\n",
    "analysis0.sentiment\n",
    "\n"
   ]
  },
  {
   "cell_type": "code",
   "execution_count": 46,
   "id": "a80f1d6b-afcd-4108-bc6c-3620b437330f",
   "metadata": {},
   "outputs": [
    {
     "name": "stdout",
     "output_type": "stream",
     "text": [
      "Negative\n"
     ]
    }
   ],
   "source": [
    "if(analysis0.sentiment.polarity>0.10):        \n",
    "        print(\"Positive\")\n",
    "else:\n",
    "        print(\"Negative\")"
   ]
  },
  {
   "cell_type": "code",
   "execution_count": 47,
   "id": "a8e4a134-7bbd-4b2e-a08c-2411b6abf818",
   "metadata": {},
   "outputs": [
    {
     "data": {
      "text/plain": [
       "Sentiment(polarity=0.15018518518518523, subjectivity=0.34203703703703703)"
      ]
     },
     "execution_count": 47,
     "metadata": {},
     "output_type": "execute_result"
    }
   ],
   "source": [
    "analysis1=TextBlob(article_content2)\n",
    "analysis1.sentiment"
   ]
  },
  {
   "cell_type": "code",
   "execution_count": 48,
   "id": "3a37789a-8a46-49be-90bd-04836bbf3c29",
   "metadata": {},
   "outputs": [
    {
     "name": "stdout",
     "output_type": "stream",
     "text": [
      "Positive\n"
     ]
    }
   ],
   "source": [
    "if(analysis1.sentiment.polarity>0):        \n",
    "        print(\"Positive\")\n",
    "elif(analysis1.sentiment.polarity==0):\n",
    "        print(\"Neutral\")\n",
    "else:\n",
    "        print(\"Negative\")"
   ]
  },
  {
   "cell_type": "code",
   "execution_count": 49,
   "id": "12c86fb4-6b19-4f1e-8143-6b869fdb3d78",
   "metadata": {},
   "outputs": [
    {
     "data": {
      "text/plain": [
       "Sentiment(polarity=0.022966004583651643, subjectivity=0.45774446142093206)"
      ]
     },
     "execution_count": 49,
     "metadata": {},
     "output_type": "execute_result"
    }
   ],
   "source": [
    "analysis3=TextBlob(article_content3)\n",
    "analysis3.sentiment"
   ]
  },
  {
   "cell_type": "code",
   "execution_count": 50,
   "id": "1db2cf1f-553c-42fd-a80e-f1321ce2f5c3",
   "metadata": {},
   "outputs": [
    {
     "name": "stdout",
     "output_type": "stream",
     "text": [
      "Positive\n"
     ]
    }
   ],
   "source": [
    "if(analysis3.sentiment.polarity>0):        \n",
    "        print(\"Positive\")\n",
    "elif(analysis3.sentiment.polarity==0):\n",
    "        print(\"Neutral\")\n",
    "else:\n",
    "        print(\"Negative\")"
   ]
  },
  {
   "cell_type": "code",
   "execution_count": null,
   "id": "84690451-c53d-41e9-a3ed-46dc8322cd4e",
   "metadata": {},
   "outputs": [],
   "source": []
  },
  {
   "cell_type": "code",
   "execution_count": null,
   "id": "54528e76-dfc2-414d-847f-c24122ff8aa5",
   "metadata": {},
   "outputs": [],
   "source": []
  }
 ],
 "metadata": {
  "kernelspec": {
   "display_name": "Python 3 (ipykernel)",
   "language": "python",
   "name": "python3"
  },
  "language_info": {
   "codemirror_mode": {
    "name": "ipython",
    "version": 3
   },
   "file_extension": ".py",
   "mimetype": "text/x-python",
   "name": "python",
   "nbconvert_exporter": "python",
   "pygments_lexer": "ipython3",
   "version": "3.12.7"
  }
 },
 "nbformat": 4,
 "nbformat_minor": 5
}
